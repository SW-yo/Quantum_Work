{
 "cells": [
  {
   "cell_type": "markdown",
   "id": "02598d5a",
   "metadata": {},
   "source": [
    "Unit.3：VQAを実装する"
   ]
  },
  {
   "cell_type": "code",
   "execution_count": 1,
   "id": "7aefeeeb",
   "metadata": {},
   "outputs": [],
   "source": [
    "# Import libraries\n",
    "import pennylane as qml\n",
    "from pennylane import numpy as np\n",
    "\n",
    "# Define the quantum device\n",
    "dev = qml.device(\"default.qubit\", wires=1)\n",
    "\n",
    "# Define the QNode (quantum circuit)\n",
    "@qml.qnode(dev)\n",
    "def circuit(params):\n",
    "    qml.RX(params[0], wires=0)\n",
    "    qml.RY(params[1], wires=0)\n",
    "    return qml.expval(qml.PauliZ(0))"
   ]
  },
  {
   "cell_type": "code",
   "execution_count": 2,
   "id": "3d7f20e5",
   "metadata": {},
   "outputs": [],
   "source": [
    "def cost_fn(params):\n",
    "    return circuit(params)"
   ]
  },
  {
   "cell_type": "code",
   "execution_count": 5,
   "id": "c1bf1d02",
   "metadata": {},
   "outputs": [
    {
     "name": "stdout",
     "output_type": "stream",
     "text": [
      "Step 10: Cost = 0.0663, Params = [1.54438651 1.10735847]\n",
      "Optimized params: [1.54438651 1.10735847]\n",
      "Final cost: 0.0118\n",
      "Step 20: Cost = -0.2490, Params = [2.38095681 1.11810796]\n",
      "Optimized params: [2.38095681 1.11810796]\n",
      "Final cost: -0.3168\n",
      "Step 30: Cost = -0.9634, Params = [3.11319147 0.15734547]\n",
      "Optimized params: [3.11319147 0.15734547]\n",
      "Final cost: -0.9872\n",
      "Step 40: Cost = -0.9102, Params = [ 3.39055799 -0.3495054 ]\n",
      "Optimized params: [ 3.39055799 -0.3495054 ]\n",
      "Final cost: -0.9106\n",
      "Step 50: Cost = -0.9952, Params = [ 3.14148416 -0.05539467]\n",
      "Optimized params: [ 3.14148416 -0.05539467]\n",
      "Final cost: -0.9985\n",
      "Step 60: Cost = -0.9865, Params = [3.0533867  0.13215713]\n",
      "Optimized params: [3.0533867  0.13215713]\n",
      "Final cost: -0.9874\n",
      "Step 70: Cost = -0.9998, Params = [ 3.16982589 -0.01129602]\n",
      "Optimized params: [ 3.16982589 -0.01129602]\n",
      "Final cost: -0.9995\n",
      "Step 80: Cost = -0.9985, Params = [ 3.16021279 -0.04292297]\n",
      "Optimized params: [ 3.16021279 -0.04292297]\n",
      "Final cost: -0.9989\n",
      "Step 90: Cost = -0.9996, Params = [3.1217988  0.02322005]\n",
      "Optimized params: [3.1217988  0.02322005]\n",
      "Final cost: -0.9995\n",
      "Step 100: Cost = -1.0000, Params = [3.14774865e+00 2.23720952e-03]\n",
      "Optimized params: [3.14774865e+00 2.23720952e-03]\n",
      "Final cost: -1.0000\n"
     ]
    }
   ],
   "source": [
    "optimizer = qml.AdamOptimizer(stepsize=0.1) \n",
    "params = np.array([0.54, 0.12], requires_grad=True) \n",
    "for i in range(100): \n",
    "    params, prev_cost = optimizer.step_and_cost(cost_fn, params) \n",
    "    if (i + 1) % 10 == 0: \n",
    "        print(f\"Step {i+1}: Cost = {prev_cost:.4f}, Params = {params}\") \n",
    "        print(f\"Optimized params: {params}\") \n",
    "        print(f\"Final cost: {cost_fn(params):.4f}\")"
   ]
  }
 ],
 "metadata": {
  "kernelspec": {
   "display_name": "Python 3",
   "language": "python",
   "name": "python3"
  },
  "language_info": {
   "codemirror_mode": {
    "name": "ipython",
    "version": 3
   },
   "file_extension": ".py",
   "mimetype": "text/x-python",
   "name": "python",
   "nbconvert_exporter": "python",
   "pygments_lexer": "ipython3",
   "version": "3.13.7"
  }
 },
 "nbformat": 4,
 "nbformat_minor": 5
}
