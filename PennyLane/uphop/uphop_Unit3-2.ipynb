{
 "cells": [
  {
   "cell_type": "markdown",
   "id": "f9248f71",
   "metadata": {},
   "source": [
    "Unit.3：PennyLaneで最適化"
   ]
  },
  {
   "cell_type": "markdown",
   "id": "374c63bc",
   "metadata": {},
   "source": [
    "uphopのコードスニペット"
   ]
  },
  {
   "cell_type": "code",
   "execution_count": null,
   "id": "1b2ddbe7",
   "metadata": {},
   "outputs": [
    {
     "name": "stdout",
     "output_type": "stream",
     "text": [
      "Starting optimization...\n",
      "Step 10: Cost = 0.4994, Params = [0.02593314 0.02593314]\n",
      "Step 20: Cost = 0.4963, Params = [0.06718925 0.06718925]\n",
      "Step 30: Cost = 0.4754, Params = [0.17298773 0.17298773]\n",
      "Step 40: Cost = 0.3534, Params = [0.42822457 0.42822457]\n",
      "Step 50: Cost = -0.0506, Params = [0.88580862 0.88580862]\n",
      "Step 60: Cost = -0.4051, Params = [1.28695311 1.28695311]\n",
      "Step 70: Cost = -0.4873, Params = [1.46902336 1.46902336]\n",
      "Step 80: Cost = -0.4984, Params = [1.53518399 1.53518399]\n",
      "Step 90: Cost = -0.4998, Params = [1.55837368 1.55837368]\n",
      "Step 100: Cost = -0.5000, Params = [1.56646459 1.56646459]\n"
     ]
    }
   ],
   "source": [
    "import pennylane as qml\n",
    "from pennylane import numpy as np\n",
    "\n",
    "# Device and QNode setup\n",
    "dev = qml.device(\"default.qubit\", wires=1)\n",
    "@qml.qnode(dev)\n",
    "def circuit(params):\n",
    "    qml.RX(params[0], wires=0)\n",
    "    qml.RY(params[1], wires=0)\n",
    "    return qml.expval(qml.PauliZ(0))\n",
    "\n",
    "# Cost function definition\n",
    "def cost(params):\n",
    "    return circuit(params) - 0.5 # Target value is 0.5\n",
    "\n",
    "# Initial parameters\n",
    "params = np.array([0.01, 0.01], requires_grad=True)\n",
    "\n",
    "# Instantiate the optimizer\n",
    "opt = qml.GradientDescentOptimizer(stepsize=0.1)\n",
    "\n",
    "# Optimization loop (e.g., 100 steps)\n",
    "print(\"Starting optimization...\")\n",
    "for i in range(100):\n",
    "    params, prev_cost = opt.step_and_cost(cost, params)\n",
    "    if (i + 1) % 10 == 0:\n",
    "        print(f\"Step {i+1}: Cost = {prev_cost:.4f}, Params = {params}\")"
   ]
  },
  {
   "cell_type": "code",
   "execution_count": null,
   "id": "39336961",
   "metadata": {},
   "outputs": [],
   "source": [
    "コードスニペットをADAMオプティマイザに変更"
   ]
  },
  {
   "cell_type": "code",
   "execution_count": null,
   "id": "0b02e05d",
   "metadata": {},
   "outputs": [
    {
     "name": "stdout",
     "output_type": "stream",
     "text": [
      "Starting optimization...\n",
      "Step 10: Cost = -0.0591, Params = [0.94524811 0.94524811]\n",
      "Step 20: Cost = -0.4634, Params = [1.81400891 1.81400891]\n",
      "Step 30: Cost = -0.4642, Params = [1.72119791 1.72119791]\n",
      "Step 40: Cost = -0.4834, Params = [1.43597783 1.43597783]\n",
      "Step 50: Cost = -0.4999, Params = [1.58145362 1.58145362]\n",
      "Step 60: Cost = -0.4976, Params = [1.61037246 1.61037246]\n",
      "Step 70: Cost = -0.4990, Params = [1.53915453 1.53915453]\n",
      "Step 80: Cost = -0.4999, Params = [1.58340036 1.58340036]\n",
      "Step 90: Cost = -0.5000, Params = [1.56965734 1.56965734]\n",
      "Step 100: Cost = -0.5000, Params = [1.56804236 1.56804236]\n"
     ]
    }
   ],
   "source": [
    "import pennylane as qml\n",
    "from pennylane import numpy as np\n",
    "\n",
    "# Device and QNode setup\n",
    "dev = qml.device(\"default.qubit\", wires=1)\n",
    "@qml.qnode(dev)\n",
    "def circuit(params):\n",
    "    qml.RX(params[0], wires=0)\n",
    "    qml.RY(params[1], wires=0)\n",
    "    return qml.expval(qml.PauliZ(0))\n",
    "\n",
    "# Cost function definition\n",
    "def cost(params):\n",
    "    return circuit(params) - 0.5 # Target value is 0.5\n",
    "\n",
    "# Initial parameters\n",
    "params = np.array([0.01, 0.01], requires_grad=True)\n",
    "\n",
    "# Instantiate the optimizer\n",
    "opt = qml.AdamOptimizer(stepsize=0.1)\n",
    "\n",
    "# Optimization loop (e.g., 100 steps)\n",
    "print(\"Starting optimization...\")\n",
    "for i in range(100):\n",
    "    params, prev_cost = opt.step_and_cost(cost, params)\n",
    "    if (i + 1) % 10 == 0:\n",
    "        print(f\"Step {i+1}: Cost = {prev_cost:.4f}, Params = {params}\")      "
   ]
  }
 ],
 "metadata": {
  "kernelspec": {
   "display_name": "Python 3",
   "language": "python",
   "name": "python3"
  },
  "language_info": {
   "codemirror_mode": {
    "name": "ipython",
    "version": 3
   },
   "file_extension": ".py",
   "mimetype": "text/x-python",
   "name": "python",
   "nbconvert_exporter": "python",
   "pygments_lexer": "ipython3",
   "version": "3.13.7"
  }
 },
 "nbformat": 4,
 "nbformat_minor": 5
}
