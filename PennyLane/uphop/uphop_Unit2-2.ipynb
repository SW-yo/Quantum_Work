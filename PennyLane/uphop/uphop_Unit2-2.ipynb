{
 "cells": [
  {
   "cell_type": "markdown",
   "id": "350b6e2f",
   "metadata": {},
   "source": [
    "Unit2：PennyLaneで量子回路を構築する\n",
    "デバイスとシミュレーション"
   ]
  },
  {
   "cell_type": "markdown",
   "id": "6d0e3bb9",
   "metadata": {},
   "source": [
    "QNodeのシミュレーション 🚀\n",
    "以前のレッスンで作成したQNode my_quantum_circuit があるとします。このQNodeを2つの量子ビットを持つdefault.qubitデバイスでシミュレートし、結果を取得するためのPythonコードを記述してください。"
   ]
  },
  {
   "cell_type": "code",
   "execution_count": 1,
   "id": "7c0ceb1c",
   "metadata": {},
   "outputs": [
    {
     "name": "stdout",
     "output_type": "stream",
     "text": [
      "Measurement results: (np.float64(0.0), np.float64(0.0))\n"
     ]
    }
   ],
   "source": [
    "import pennylane as qml\n",
    "\n",
    "# 2量子ビットのデバイスを定義\n",
    "dev = qml.device(\"default.qubit\", wires=2)\n",
    "\n",
    "# 量子回路my_quantum_circuitを定義（ベル状態の生成）\n",
    "# デフォルトはNumPyで返す\n",
    "@qml.qnode(dev)\n",
    "# PyTorchで返す時\n",
    "# @qml.qnode(dev, interface=\"torch\")\n",
    "# TensorFlowで返す時\n",
    "# @qml.qnode(dev, interface=\"tf\")\n",
    "def my_quantum_circuit():\n",
    "    # 量子ビット0にHadamardゲートを適用\n",
    "    qml.Hadamard(wires=0)\n",
    "    # 量子ビット0と1にCNOTゲートを適用\n",
    "    qml.CNOT(wires=[0, 1])\n",
    "    # 量子ビット0と1の測定を行い、Pauli-Z測定結果を返す\n",
    "    return qml.expval(qml.PauliZ(0)), qml.expval(qml.PauliZ(1))\n",
    "\n",
    "# 量子回路を実行し、結果を取得\n",
    "result = my_quantum_circuit()\n",
    "print(\"Measurement results:\", result)\n"
   ]
  }
 ],
 "metadata": {
  "kernelspec": {
   "display_name": "Python 3",
   "language": "python",
   "name": "python3"
  },
  "language_info": {
   "codemirror_mode": {
    "name": "ipython",
    "version": 3
   },
   "file_extension": ".py",
   "mimetype": "text/x-python",
   "name": "python",
   "nbconvert_exporter": "python",
   "pygments_lexer": "ipython3",
   "version": "3.13.7"
  }
 },
 "nbformat": 4,
 "nbformat_minor": 5
}
