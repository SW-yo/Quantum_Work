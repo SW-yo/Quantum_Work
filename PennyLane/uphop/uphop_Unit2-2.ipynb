{
 "cells": [
  {
   "cell_type": "markdown",
   "id": "350b6e2f",
   "metadata": {},
   "source": [
    "PennyLaneのインストール（Python3.13）"
   ]
  },
  {
   "cell_type": "code",
   "execution_count": 6,
   "id": "83e0bae5",
   "metadata": {},
   "outputs": [
    {
     "name": "stdout",
     "output_type": "stream",
     "text": [
      "Requirement already satisfied: pennylane in c:\\users\\salt_.yo-mouse_no02\\appdata\\local\\programs\\python\\python312\\lib\\site-packages (0.42.3)\n",
      "Requirement already satisfied: scipy in c:\\users\\salt_.yo-mouse_no02\\appdata\\local\\programs\\python\\python312\\lib\\site-packages (from pennylane) (1.14.1)\n",
      "Requirement already satisfied: networkx in c:\\users\\salt_.yo-mouse_no02\\appdata\\local\\programs\\python\\python312\\lib\\site-packages (from pennylane) (3.5)\n",
      "Requirement already satisfied: rustworkx>=0.14.0 in c:\\users\\salt_.yo-mouse_no02\\appdata\\local\\programs\\python\\python312\\lib\\site-packages (from pennylane) (0.15.1)\n",
      "Requirement already satisfied: autograd in c:\\users\\salt_.yo-mouse_no02\\appdata\\local\\programs\\python\\python312\\lib\\site-packages (from pennylane) (1.8.0)\n",
      "Requirement already satisfied: appdirs in c:\\users\\salt_.yo-mouse_no02\\appdata\\local\\programs\\python\\python312\\lib\\site-packages (from pennylane) (1.4.4)\n",
      "Requirement already satisfied: autoray<0.8,>=0.6.11 in c:\\users\\salt_.yo-mouse_no02\\appdata\\local\\programs\\python\\python312\\lib\\site-packages (from pennylane) (0.7.2)\n",
      "Requirement already satisfied: cachetools in c:\\users\\salt_.yo-mouse_no02\\appdata\\local\\programs\\python\\python312\\lib\\site-packages (from pennylane) (6.2.0)\n",
      "Requirement already satisfied: pennylane-lightning>=0.42 in c:\\users\\salt_.yo-mouse_no02\\appdata\\local\\programs\\python\\python312\\lib\\site-packages (from pennylane) (0.42.0)\n",
      "Requirement already satisfied: requests in c:\\users\\salt_.yo-mouse_no02\\appdata\\local\\programs\\python\\python312\\lib\\site-packages (from pennylane) (2.32.3)\n",
      "Requirement already satisfied: tomlkit in c:\\users\\salt_.yo-mouse_no02\\appdata\\local\\programs\\python\\python312\\lib\\site-packages (from pennylane) (0.13.3)\n",
      "Requirement already satisfied: typing_extensions in c:\\users\\salt_.yo-mouse_no02\\appdata\\local\\programs\\python\\python312\\lib\\site-packages (from pennylane) (4.12.2)\n",
      "Requirement already satisfied: packaging in c:\\users\\salt_.yo-mouse_no02\\appdata\\roaming\\python\\python312\\site-packages (from pennylane) (24.2)\n",
      "Requirement already satisfied: diastatic-malt in c:\\users\\salt_.yo-mouse_no02\\appdata\\local\\programs\\python\\python312\\lib\\site-packages (from pennylane) (2.15.2)\n",
      "Requirement already satisfied: numpy in c:\\users\\salt_.yo-mouse_no02\\appdata\\local\\programs\\python\\python312\\lib\\site-packages (from pennylane) (2.1.3)\n",
      "Requirement already satisfied: scipy-openblas32>=0.3.26 in c:\\users\\salt_.yo-mouse_no02\\appdata\\local\\programs\\python\\python312\\lib\\site-packages (from pennylane-lightning>=0.42->pennylane) (0.3.30.0.2)\n",
      "Requirement already satisfied: astunparse in c:\\users\\salt_.yo-mouse_no02\\appdata\\local\\programs\\python\\python312\\lib\\site-packages (from diastatic-malt->pennylane) (1.6.3)\n",
      "Requirement already satisfied: gast in c:\\users\\salt_.yo-mouse_no02\\appdata\\local\\programs\\python\\python312\\lib\\site-packages (from diastatic-malt->pennylane) (0.6.0)\n",
      "Requirement already satisfied: termcolor in c:\\users\\salt_.yo-mouse_no02\\appdata\\local\\programs\\python\\python312\\lib\\site-packages (from diastatic-malt->pennylane) (3.1.0)\n",
      "Requirement already satisfied: wheel<1.0,>=0.23.0 in c:\\users\\salt_.yo-mouse_no02\\appdata\\local\\programs\\python\\python312\\lib\\site-packages (from astunparse->diastatic-malt->pennylane) (0.45.1)\n",
      "Requirement already satisfied: six<2.0,>=1.6.1 in c:\\users\\salt_.yo-mouse_no02\\appdata\\roaming\\python\\python312\\site-packages (from astunparse->diastatic-malt->pennylane) (1.16.0)\n",
      "Requirement already satisfied: charset-normalizer<4,>=2 in c:\\users\\salt_.yo-mouse_no02\\appdata\\local\\programs\\python\\python312\\lib\\site-packages (from requests->pennylane) (3.4.0)\n",
      "Requirement already satisfied: idna<4,>=2.5 in c:\\users\\salt_.yo-mouse_no02\\appdata\\local\\programs\\python\\python312\\lib\\site-packages (from requests->pennylane) (3.10)\n",
      "Requirement already satisfied: urllib3<3,>=1.21.1 in c:\\users\\salt_.yo-mouse_no02\\appdata\\local\\programs\\python\\python312\\lib\\site-packages (from requests->pennylane) (2.2.3)\n",
      "Requirement already satisfied: certifi>=2017.4.17 in c:\\users\\salt_.yo-mouse_no02\\appdata\\local\\programs\\python\\python312\\lib\\site-packages (from requests->pennylane) (2024.8.30)\n"
     ]
    }
   ],
   "source": [
    "!pip install pennylane"
   ]
  },
  {
   "cell_type": "markdown",
   "id": "6d0e3bb9",
   "metadata": {},
   "source": [
    "QNodeのシミュレーション 🚀\n",
    "以前のレッスンで作成したQNode my_quantum_circuit があるとします。このQNodeを2つの量子ビットを持つdefault.qubitデバイスでシミュレートし、結果を取得するためのPythonコードを記述してください。"
   ]
  },
  {
   "cell_type": "code",
   "execution_count": null,
   "id": "7c0ceb1c",
   "metadata": {},
   "outputs": [],
   "source": [
    "import pennylane as qml\n",
    "\n",
    "# 2量子ビットのデバイスを定義\n",
    "dev = qml.device(\"default.qubit\", wires=2)\n",
    "\n",
    "# 量子回路my_quantum_circuitを定義（ベル状態の生成）\n",
    "# デフォルトはNumPyで返す\n",
    "@qml.qnode(dev)\n",
    "# PyTorchで返す時\n",
    "# @qml.qnode(dev, interface=\"torch\")\n",
    "# TensorFlowで返す時\n",
    "# @qml.qnode(dev, interface=\"tf\")\n",
    "def my_quantum_circuit():\n",
    "    # 量子ビット0にHadamardゲートを適用\n",
    "    qml.Hadamard(wires=0)\n",
    "    # 量子ビット0と1にCNOTゲートを適用\n",
    "    qml.CNOT(wires=[0, 1])\n",
    "    # 量子ビット0と1の測定を行い、Pauli-Z測定結果を返す\n",
    "    return qml.expval(qml.PauliZ(0)), qml.expval(qml.PauliZ(1))\n",
    "\n",
    "# 量子回路を実行し、結果を取得\n",
    "result = my_quantum_circuit()\n",
    "print(\"Measurement results:\", result)\n"
   ]
  }
 ],
 "metadata": {
  "kernelspec": {
   "display_name": "Python 3",
   "language": "python",
   "name": "python3"
  },
  "language_info": {
   "codemirror_mode": {
    "name": "ipython",
    "version": 3
   },
   "file_extension": ".py",
   "mimetype": "text/x-python",
   "name": "python",
   "nbconvert_exporter": "python",
   "pygments_lexer": "ipython3",
   "version": "3.12.3"
  }
 },
 "nbformat": 4,
 "nbformat_minor": 5
}
