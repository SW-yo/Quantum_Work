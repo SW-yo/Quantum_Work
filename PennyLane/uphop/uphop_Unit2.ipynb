{
 "cells": [
  {
   "cell_type": "markdown",
   "id": "6e1c02ce",
   "metadata": {},
   "source": [
    "Unit2：PennyLaneで量子回路を構築する\n",
    "QNodeの作成"
   ]
  },
  {
   "cell_type": "code",
   "execution_count": null,
   "id": "3cf46466",
   "metadata": {},
   "outputs": [],
   "source": [
    "import pennylane as qml\n",
    "from pennylane import numpy as np\n",
    "\n",
    "# Specify the device (using a simulator here)\n",
    "dev = qml.device(\"default.qubit\", wires=1)\n",
    "\n",
    "@qml.qnode(dev)\n",
    "def my_quantum_circuit():\n",
    "    # Describe quantum operations\n",
    "    qml.Hadamard(wires=0)\n",
    "    qml.PauliX(wires=0)\n",
    "    # Describe measurement operations\n",
    "    return qml.expval(qml.PauliZ(wires=0))"
   ]
  },
  {
   "cell_type": "markdown",
   "id": "eb5e4e00",
   "metadata": {},
   "source": [
    "演習問題"
   ]
  },
  {
   "cell_type": "code",
   "execution_count": 3,
   "id": "a6867e6f",
   "metadata": {},
   "outputs": [],
   "source": [
    "import pennylane as qml\n",
    "\n",
    "# Specify the device (using a simulator here)\n",
    "# ワイヤー数2の量子回路をどのシミュレータで動かすか指定\n",
    "# \"default.qubit\"はPennyLaneに標準で搭載されているシミュレータ\n",
    "# \"lightning.qubit\"は高速なシミュレータ\n",
    "dev = qml.device(\"default.qubit\", wires=2)\n",
    "\n",
    "#　Define the quantum node (QNode)\n",
    "#　QNodeを定義\n",
    "# デコレータを使ってmy_quantum_circuit関数をQNodeに変換\n",
    "@qml.qnode(dev)\n",
    "def my_quantum_circuit():\n",
    "    # Describe quantum operations\n",
    "    qml.Hadamard(wires=0)\n",
    "    qml.CNOT(wires=[0, 1]) \n",
    "    # Describe measurement operations\n",
    "    # ①平均を返す場合\n",
    "    #return qml.expval(qml.PauliZ(wires=0))\n",
    "    # ②確率分布を返す場合\n",
    "    return qml.probs(wires=[0,1])\n",
    "    "
   ]
  }
 ],
 "metadata": {
  "kernelspec": {
   "display_name": "Python 3",
   "language": "python",
   "name": "python3"
  },
  "language_info": {
   "codemirror_mode": {
    "name": "ipython",
    "version": 3
   },
   "file_extension": ".py",
   "mimetype": "text/x-python",
   "name": "python",
   "nbconvert_exporter": "python",
   "pygments_lexer": "ipython3",
   "version": "3.12.3"
  }
 },
 "nbformat": 4,
 "nbformat_minor": 5
}
