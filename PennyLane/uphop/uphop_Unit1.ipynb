{
 "cells": [
  {
   "cell_type": "markdown",
   "id": "7e4e4279",
   "metadata": {},
   "source": [
    "PennyLaneのインストール"
   ]
  },
  {
   "cell_type": "code",
   "execution_count": null,
   "id": "d696fd4b",
   "metadata": {},
   "outputs": [],
   "source": [
    "!pip install pennylane"
   ]
  },
  {
   "cell_type": "markdown",
   "id": "9cffc95b",
   "metadata": {},
   "source": [
    "PennyLaneのインポートとバージョンおよび依存関係の確認"
   ]
  },
  {
   "cell_type": "code",
   "execution_count": null,
   "id": "b95271f5",
   "metadata": {},
   "outputs": [],
   "source": [
    "import pennylane as qml\n",
    "qml.about()"
   ]
  }
 ],
 "metadata": {
  "kernelspec": {
   "display_name": "Python 3",
   "language": "python",
   "name": "python3"
  },
  "language_info": {
   "codemirror_mode": {
    "name": "ipython",
    "version": 3
   },
   "file_extension": ".py",
   "mimetype": "text/x-python",
   "name": "python",
   "nbconvert_exporter": "python",
   "pygments_lexer": "ipython3",
   "version": "3.12.3"
  }
 },
 "nbformat": 4,
 "nbformat_minor": 5
}
