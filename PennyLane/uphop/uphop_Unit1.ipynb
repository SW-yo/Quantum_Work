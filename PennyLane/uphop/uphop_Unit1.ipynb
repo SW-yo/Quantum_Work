{
 "cells": [
  {
   "cell_type": "markdown",
   "id": "7e4e4279",
   "metadata": {},
   "source": [
    "PennyLaneのインストール"
   ]
  },
  {
   "cell_type": "code",
   "execution_count": 1,
   "id": "d696fd4b",
   "metadata": {},
   "outputs": [
    {
     "name": "stdout",
     "output_type": "stream",
     "text": [
      "Requirement already satisfied: pennylane in c:\\users\\salt_.yo-mouse_no02\\appdata\\local\\programs\\python\\python312\\lib\\site-packages (0.42.3)\n",
      "Requirement already satisfied: scipy in c:\\users\\salt_.yo-mouse_no02\\appdata\\local\\programs\\python\\python312\\lib\\site-packages (from pennylane) (1.14.1)\n",
      "Requirement already satisfied: networkx in c:\\users\\salt_.yo-mouse_no02\\appdata\\local\\programs\\python\\python312\\lib\\site-packages (from pennylane) (3.5)\n",
      "Requirement already satisfied: rustworkx>=0.14.0 in c:\\users\\salt_.yo-mouse_no02\\appdata\\local\\programs\\python\\python312\\lib\\site-packages (from pennylane) (0.15.1)\n",
      "Requirement already satisfied: autograd in c:\\users\\salt_.yo-mouse_no02\\appdata\\local\\programs\\python\\python312\\lib\\site-packages (from pennylane) (1.8.0)\n",
      "Requirement already satisfied: appdirs in c:\\users\\salt_.yo-mouse_no02\\appdata\\local\\programs\\python\\python312\\lib\\site-packages (from pennylane) (1.4.4)\n",
      "Requirement already satisfied: autoray<0.8,>=0.6.11 in c:\\users\\salt_.yo-mouse_no02\\appdata\\local\\programs\\python\\python312\\lib\\site-packages (from pennylane) (0.7.2)\n",
      "Requirement already satisfied: cachetools in c:\\users\\salt_.yo-mouse_no02\\appdata\\local\\programs\\python\\python312\\lib\\site-packages (from pennylane) (6.2.0)\n",
      "Requirement already satisfied: pennylane-lightning>=0.42 in c:\\users\\salt_.yo-mouse_no02\\appdata\\local\\programs\\python\\python312\\lib\\site-packages (from pennylane) (0.42.0)\n",
      "Requirement already satisfied: requests in c:\\users\\salt_.yo-mouse_no02\\appdata\\local\\programs\\python\\python312\\lib\\site-packages (from pennylane) (2.32.3)\n",
      "Requirement already satisfied: tomlkit in c:\\users\\salt_.yo-mouse_no02\\appdata\\local\\programs\\python\\python312\\lib\\site-packages (from pennylane) (0.13.3)\n",
      "Requirement already satisfied: typing_extensions in c:\\users\\salt_.yo-mouse_no02\\appdata\\local\\programs\\python\\python312\\lib\\site-packages (from pennylane) (4.12.2)\n",
      "Requirement already satisfied: packaging in c:\\users\\salt_.yo-mouse_no02\\appdata\\roaming\\python\\python312\\site-packages (from pennylane) (24.2)\n",
      "Requirement already satisfied: diastatic-malt in c:\\users\\salt_.yo-mouse_no02\\appdata\\local\\programs\\python\\python312\\lib\\site-packages (from pennylane) (2.15.2)\n",
      "Requirement already satisfied: numpy in c:\\users\\salt_.yo-mouse_no02\\appdata\\local\\programs\\python\\python312\\lib\\site-packages (from pennylane) (2.1.3)\n",
      "Requirement already satisfied: scipy-openblas32>=0.3.26 in c:\\users\\salt_.yo-mouse_no02\\appdata\\local\\programs\\python\\python312\\lib\\site-packages (from pennylane-lightning>=0.42->pennylane) (0.3.30.0.2)\n",
      "Requirement already satisfied: astunparse in c:\\users\\salt_.yo-mouse_no02\\appdata\\local\\programs\\python\\python312\\lib\\site-packages (from diastatic-malt->pennylane) (1.6.3)\n",
      "Requirement already satisfied: gast in c:\\users\\salt_.yo-mouse_no02\\appdata\\local\\programs\\python\\python312\\lib\\site-packages (from diastatic-malt->pennylane) (0.6.0)\n",
      "Requirement already satisfied: termcolor in c:\\users\\salt_.yo-mouse_no02\\appdata\\local\\programs\\python\\python312\\lib\\site-packages (from diastatic-malt->pennylane) (3.1.0)\n",
      "Requirement already satisfied: wheel<1.0,>=0.23.0 in c:\\users\\salt_.yo-mouse_no02\\appdata\\local\\programs\\python\\python312\\lib\\site-packages (from astunparse->diastatic-malt->pennylane) (0.45.1)\n",
      "Requirement already satisfied: six<2.0,>=1.6.1 in c:\\users\\salt_.yo-mouse_no02\\appdata\\roaming\\python\\python312\\site-packages (from astunparse->diastatic-malt->pennylane) (1.16.0)\n",
      "Requirement already satisfied: charset-normalizer<4,>=2 in c:\\users\\salt_.yo-mouse_no02\\appdata\\local\\programs\\python\\python312\\lib\\site-packages (from requests->pennylane) (3.4.0)\n",
      "Requirement already satisfied: idna<4,>=2.5 in c:\\users\\salt_.yo-mouse_no02\\appdata\\local\\programs\\python\\python312\\lib\\site-packages (from requests->pennylane) (3.10)\n",
      "Requirement already satisfied: urllib3<3,>=1.21.1 in c:\\users\\salt_.yo-mouse_no02\\appdata\\local\\programs\\python\\python312\\lib\\site-packages (from requests->pennylane) (2.2.3)\n",
      "Requirement already satisfied: certifi>=2017.4.17 in c:\\users\\salt_.yo-mouse_no02\\appdata\\local\\programs\\python\\python312\\lib\\site-packages (from requests->pennylane) (2024.8.30)\n"
     ]
    }
   ],
   "source": [
    "!pip install pennylane"
   ]
  },
  {
   "cell_type": "markdown",
   "id": "9cffc95b",
   "metadata": {},
   "source": [
    "PennyLaneのインポートとバージョンおよび依存関係の確認"
   ]
  },
  {
   "cell_type": "code",
   "execution_count": 2,
   "id": "b95271f5",
   "metadata": {},
   "outputs": [
    {
     "name": "stdout",
     "output_type": "stream",
     "text": [
      "Name: pennylane\n",
      "Version: 0.42.3\n",
      "Summary: PennyLane is a cross-platform Python library for quantum computing, quantum machine learning, and quantum chemistry. Train a quantum computer the same way as a neural network.\n",
      "Home-page: \n",
      "Author: \n",
      "Author-email: \n",
      "License-Expression: Apache-2.0\n",
      "Location: c:\\Users\\salt_.YO-MOUSE_NO02\\AppData\\Local\\Programs\\Python\\Python312\\Lib\\site-packages\n",
      "Requires: appdirs, autograd, autoray, cachetools, diastatic-malt, networkx, numpy, packaging, pennylane-lightning, requests, rustworkx, scipy, tomlkit, typing_extensions\n",
      "Required-by: pennylane_lightning\n",
      "\n",
      "Platform info:           Windows-11-10.0.26100-SP0\n",
      "Python version:          3.12.3\n",
      "Numpy version:           2.1.3\n",
      "Scipy version:           1.14.1\n",
      "Installed devices:\n",
      "- default.clifford (pennylane-0.42.3)\n",
      "- default.gaussian (pennylane-0.42.3)\n",
      "- default.mixed (pennylane-0.42.3)\n",
      "- default.qubit (pennylane-0.42.3)\n",
      "- default.qutrit (pennylane-0.42.3)\n",
      "- default.qutrit.mixed (pennylane-0.42.3)\n",
      "- default.tensor (pennylane-0.42.3)\n",
      "- null.qubit (pennylane-0.42.3)\n",
      "- reference.qubit (pennylane-0.42.3)\n",
      "- lightning.qubit (pennylane_lightning-0.42.0)\n"
     ]
    }
   ],
   "source": [
    "import pennylane as qml\n",
    "qml.about()"
   ]
  }
 ],
 "metadata": {
  "kernelspec": {
   "display_name": "Python 3",
   "language": "python",
   "name": "python3"
  },
  "language_info": {
   "codemirror_mode": {
    "name": "ipython",
    "version": 3
   },
   "file_extension": ".py",
   "mimetype": "text/x-python",
   "name": "python",
   "nbconvert_exporter": "python",
   "pygments_lexer": "ipython3",
   "version": "3.12.3"
  }
 },
 "nbformat": 4,
 "nbformat_minor": 5
}
