{
 "cells": [
  {
   "cell_type": "markdown",
   "id": "89712a6d",
   "metadata": {},
   "source": [
    "Unit2：PennyLaneで量子回路を構築する\n",
    "コスト関数を定義する"
   ]
  },
  {
   "cell_type": "markdown",
   "id": "3b88b00e",
   "metadata": {},
   "source": [
    "演習問題"
   ]
  },
  {
   "cell_type": "code",
   "execution_count": 3,
   "id": "5e927bb9",
   "metadata": {},
   "outputs": [
    {
     "name": "stdout",
     "output_type": "stream",
     "text": [
      "Cost: 0.0\n"
     ]
    }
   ],
   "source": [
    "import pennylane as qml\n",
    "import numpy as np\n",
    "\n",
    "# ワイヤー数1の量子回路を定義\n",
    "dev = qml.device(\"default.qubit\", wires=1)\n",
    "\n",
    "# Qnodeを定義\n",
    "@qml.qnode(dev)\n",
    "def circuit():\n",
    "    # Hadamardゲートを適用\n",
    "    qml.Hadamard(wires=0)\n",
    "    # Z基底で測定\n",
    "    return qml.expval(qml.Z(0))\n",
    "\n",
    "# Qnodeのコスト関数を定義\n",
    "def cost():\n",
    "    return np.abs(circuit())\n",
    "\n",
    "# コスト関数を評価\n",
    "print(\"Cost:\", cost())\n"
   ]
  },
  {
   "cell_type": "markdown",
   "id": "97463b13",
   "metadata": {},
   "source": [
    "PyTorchを使った応用"
   ]
  },
  {
   "cell_type": "code",
   "execution_count": 6,
   "id": "a26e4baa",
   "metadata": {},
   "outputs": [
    {
     "name": "stdout",
     "output_type": "stream",
     "text": [
      "2.8.0+cpu\n",
      "Initial Cost: 0.8415\n"
     ]
    }
   ],
   "source": [
    "# パラメータ化された量子回路の例\n",
    "\n",
    "import torch\n",
    "print(torch.__version__)\n",
    "\n",
    "# ワイヤー数1の量子回路を定義\n",
    "dev = qml.device(\"default.qubit\", wires=1)\n",
    "\n",
    "@qml.qnode(dev)\n",
    "def parameterized_circuit(angle):\n",
    "    qml.Hadamard(wires=0)\n",
    "    qml.RY(angle, wires=0)  # ◀️ パラメータ `angle` を追加\n",
    "    return qml.expval(qml.PauliZ(0))\n",
    "\n",
    "def cost_function(angle):\n",
    "    #npの関数にtorchの引数を渡すとエラーになる\n",
    "    #return np.abs(parameterized_circuit(angle))\n",
    "    return torch.abs(parameterized_circuit(angle))\n",
    "\n",
    "# 初期の角度\n",
    "# uphopのコードのままPyTorchの引数をNumPyの関数に渡すとエラーになる\n",
    "#initial_angle = np.array(0.5, requires_grad=True)\n",
    "# PyTorchの関数にPyTorchの引数を渡している\n",
    "initial_angle = torch.tensor(1.0, requires_grad=True) \n",
    "\n",
    "# コスト関数の評価（初期値）\n",
    "# npの関数にtorchの引数を渡すとエラーになる\n",
    "#print(f\"Initial Cost: {cost_function(initial_angle):.4f}\")\n",
    "# PyTorchの関数にPyTorchの引数を渡している  \n",
    "# `.item()`メソッドを使ってテンソルの値をスカラーに変換\n",
    "initial_cost = cost_function(initial_angle)\n",
    "print(f\"Initial Cost: {initial_cost.item():.4f}\")"
   ]
  }
 ],
 "metadata": {
  "kernelspec": {
   "display_name": "Python 3",
   "language": "python",
   "name": "python3"
  },
  "language_info": {
   "codemirror_mode": {
    "name": "ipython",
    "version": 3
   },
   "file_extension": ".py",
   "mimetype": "text/x-python",
   "name": "python",
   "nbconvert_exporter": "python",
   "pygments_lexer": "ipython3",
   "version": "3.13.7"
  }
 },
 "nbformat": 4,
 "nbformat_minor": 5
}
