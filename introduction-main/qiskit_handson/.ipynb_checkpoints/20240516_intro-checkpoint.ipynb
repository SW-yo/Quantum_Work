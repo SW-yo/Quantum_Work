{
 "cells": [
  {
   "cell_type": "markdown",
   "metadata": {},
   "source": [
    "Quantum Tokyo    \n",
    "May 16, 2024    \n",
    "Teruaki Shikuma, Jiwon Ju\n",
    "\n",
    "# Qiskit入門ハンズオン 量子ビット・ゲート・回路編 "
   ]
  },
  {
   "cell_type": "code",
   "execution_count": 1,
   "metadata": {},
   "outputs": [],
   "source": [
    "from IPython.display import Image"
   ]
  },
  {
   "cell_type": "markdown",
   "metadata": {},
   "source": [
    "# １量子ビット回路\n",
    "まず1量子ビット回路から始めます。セルを選択して「Shift」＋「Enter」で実行できます。"
   ]
  },
  {
   "cell_type": "code",
   "execution_count": 2,
   "metadata": {
    "scrolled": true,
    "tags": []
   },
   "outputs": [],
   "source": [
    "# Import the qiskit library\n",
    "\n",
    "from qiskit import QuantumCircuit\n",
    "from qiskit_aer import StatevectorSimulator, AerSimulator"
   ]
  },
  {
   "cell_type": "markdown",
   "metadata": {},
   "source": [
    "### 空の回路"
   ]
  },
  {
   "cell_type": "code",
   "execution_count": null,
   "metadata": {
    "scrolled": true,
    "tags": []
   },
   "outputs": [],
   "source": [
    "# １量子ビット回路を用意\n",
    "qc = QuantumCircuit(1)\n",
    "\n",
    "# 回路を描画\n",
    "qc.draw(output=\"mpl\")"
   ]
  },
  {
   "cell_type": "code",
   "execution_count": null,
   "metadata": {},
   "outputs": [],
   "source": [
    "# 状態ベクトルシミュレーターの実行\n",
    "backend = StatevectorSimulator()\n",
    "result = backend.run(qc).result().get_statevector(qc, decimals=3)\n",
    "print(result)\n",
    "\n",
    "# ブロッホ球の表示\n",
    "from qiskit.visualization import plot_bloch_multivector\n",
    "plot_bloch_multivector(result)"
   ]
  },
  {
   "cell_type": "markdown",
   "metadata": {},
   "source": [
    "#### (補足説明)量子状態の表記とブロッホ球\n",
    "\n",
    "<img src=\"attachment:105342bd-9617-4ce8-81e5-f61e0a49369a.png\" width=\"600px\">\n",
    "<img src=\"attachment:1fdc5639-f147-4592-899a-672218218ade.png\" width=\"600px\">\n"
   ]
  },
  {
   "cell_type": "markdown",
   "metadata": {},
   "source": [
    "### Xゲート"
   ]
  },
  {
   "cell_type": "code",
   "execution_count": null,
   "metadata": {
    "scrolled": true,
    "tags": []
   },
   "outputs": [],
   "source": [
    "qc = QuantumCircuit(1)    # １量子ビット回路を用意\n",
    "\n",
    "# Xゲートを0番目の量子ビットに操作します。\n",
    "qc.x(0)\n",
    "\n",
    "# 回路を描画\n",
    "qc.draw(output=\"mpl\")"
   ]
  },
  {
   "cell_type": "markdown",
   "metadata": {},
   "source": [
    "IBM Quantumでは、初期状態は$|0\\rangle$にセットされていますので、上記の量子回路は、行列ベクトル表示では\n",
    "\n",
    "$X|0\\rangle=  \\begin{pmatrix}\n",
    "0 & 1 \\\\\\\n",
    "1 & 0\n",
    "\\end{pmatrix} \n",
    "\\begin{pmatrix}\n",
    "1 \\\\\\\n",
    "0\n",
    "\\end{pmatrix} \n",
    " =\\begin{pmatrix}\n",
    "0 \\\\\\\n",
    "1\n",
    "\\end{pmatrix} = |1\\rangle$ \n",
    "\n",
    "となります。次にこの回路の出力ベクトルを状態ベクトルシミュレーターを使って実行してみます。"
   ]
  },
  {
   "cell_type": "code",
   "execution_count": null,
   "metadata": {},
   "outputs": [],
   "source": [
    "# 状態ベクトルシミュレーターの実行\n",
    "backend = StatevectorSimulator()\n",
    "result = backend.run(qc).result().get_statevector(qc, decimals=3)\n",
    "print(result)\n",
    "\n",
    "# ブロッホ球の表示\n",
    "from qiskit.visualization import plot_bloch_multivector\n",
    "plot_bloch_multivector(result)"
   ]
  },
  {
   "cell_type": "markdown",
   "metadata": {
    "jp-MarkdownHeadingCollapsed": true
   },
   "source": [
    "縦ベクトルが横ベクトル表示で、複素数(虚部の添字は j )で表示されています。\n",
    "\n",
    "#### (Xゲートの補足説明)\n",
    "<img src=\"attachment:6b63eea6-e8cf-48b0-b033-5aacfc8c8ab0.png\" width=\"600px\">\n"
   ]
  },
  {
   "cell_type": "markdown",
   "metadata": {},
   "source": [
    "### Hゲート"
   ]
  },
  {
   "cell_type": "code",
   "execution_count": null,
   "metadata": {
    "scrolled": true,
    "tags": []
   },
   "outputs": [],
   "source": [
    "qc = QuantumCircuit(1)    # １量子ビット回路を用意 \n",
    "\n",
    "# Hゲートを0番目の量子ビットに操作します。\n",
    "qc.h(0)\n",
    "\n",
    "# 回路を描画\n",
    "qc.draw(output=\"mpl\")"
   ]
  },
  {
   "cell_type": "code",
   "execution_count": null,
   "metadata": {
    "scrolled": true,
    "tags": []
   },
   "outputs": [],
   "source": [
    "# 状態ベクトルシミュレーターの実行\n",
    "backend = StatevectorSimulator()\n",
    "result = backend.run(qc).result().get_statevector(qc, decimals=3)\n",
    "print(result)\n",
    "\n",
    "# ブロッホ球の表示\n",
    "plot_bloch_multivector(result)"
   ]
  },
  {
   "cell_type": "markdown",
   "metadata": {},
   "source": [
    "これは、$H|0\\rangle= \\frac{1}{\\sqrt{2}} \\begin{pmatrix}\n",
    "1 & 1 \\\\\\\n",
    "1 & -1\n",
    "\\end{pmatrix} \n",
    "\\begin{pmatrix}\n",
    "1 \\\\\\\n",
    "0\n",
    "\\end{pmatrix} \n",
    " =\\frac{1}{\\sqrt{2}}\\begin{pmatrix}\n",
    "1 \\\\\\\n",
    "1\n",
    "\\end{pmatrix} \n",
    "=\\begin{pmatrix}\n",
    "0.707 \\\\\\\n",
    "0.707\n",
    "\\end{pmatrix} \n",
    "=\\frac{1}{\\sqrt{2}}（|0\\rangle+|1\\rangle)$ です。\n",
    "\n",
    "\n",
    "\n",
    "\n",
    "つまり、$H$ゲートを$|0\\rangle$に実行すると、$|0\\rangle$と$|1\\rangle$の均等な重ね合わせ状態が作れることが分かります。"
   ]
  },
  {
   "cell_type": "markdown",
   "metadata": {},
   "source": [
    "#### (Hゲートの補足説明)\n",
    "<img src=\"attachment:e077fe63-29ec-4e51-9d1d-c0f8e3f1969a.png\" width=\"600px\">\n"
   ]
  },
  {
   "cell_type": "code",
   "execution_count": null,
   "metadata": {
    "scrolled": true,
    "tags": []
   },
   "outputs": [],
   "source": [
    "qc = QuantumCircuit(1)    # １量子ビット回路を用意 \n",
    "\n",
    "# Xゲートを0番目の量子ビットに操作します。\n",
    "qc.x(0)\n",
    "\n",
    "# 次にHゲートを0番目の量子ビットに操作します。\n",
    "qc.h(0)\n",
    "\n",
    "# 回路を描画\n",
    "qc.draw(output=\"mpl\")"
   ]
  },
  {
   "cell_type": "code",
   "execution_count": null,
   "metadata": {
    "scrolled": true,
    "tags": []
   },
   "outputs": [],
   "source": [
    "# 状態ベクトルシミュレーターの実行\n",
    "backend = StatevectorSimulator()\n",
    "result = backend.run(qc).result().get_statevector(qc, decimals=3)\n",
    "print(result)\n",
    "\n",
    "# ブロッホ球の表示\n",
    "plot_bloch_multivector(result)"
   ]
  },
  {
   "cell_type": "markdown",
   "metadata": {},
   "source": [
    "$H|1\\rangle= \\frac{1}{\\sqrt{2}} \\begin{pmatrix}\n",
    "1 & 1 \\\\\\\n",
    "1 & -1\n",
    "\\end{pmatrix} \n",
    "\\begin{pmatrix}\n",
    "0 \\\\\\\n",
    "1\n",
    "\\end{pmatrix} \n",
    " =\\frac{1}{\\sqrt{2}}\\begin{pmatrix}\n",
    "1 \\\\\\\n",
    "-1\n",
    "\\end{pmatrix} \n",
    "=\\begin{pmatrix}\n",
    "0.707 \\\\\\\n",
    "-0.707\n",
    "\\end{pmatrix} \n",
    "=\\frac{1}{\\sqrt{2}}（|0\\rangle-|1\\rangle)$\n",
    "\n",
    "\n",
    "$|1\\rangle$に$H$ゲートを実行した結果、$|0\\rangle$と$|1\\rangle$の均等な重ね合わせ状態になりますが、$|1\\rangle$の符号がマイナスになります。"
   ]
  },
  {
   "cell_type": "markdown",
   "metadata": {},
   "source": [
    "#### (Hゲートの補足説明2)\n",
    "<img src=\"attachment:3c07b944-fec3-40dd-bbd3-3588be6a3c62.png\" width=\"600px\">\n"
   ]
  },
  {
   "cell_type": "markdown",
   "metadata": {},
   "source": [
    "## 演習1\n",
    "次の量子回路をプログラミングし、状態ベクトルシミュレーターで実行して、ブロッホ球を表示してみましょう。\n",
    "\n",
    "(1) $XX|0\\rangle$\n",
    "\n",
    "(2) $HH|0\\rangle$  \n",
    "\n",
    "(3) $ZH|1\\rangle$\n",
    "\n",
    "ヒント：Zゲートは、\n",
    "\n",
    "    qc.z(0)\n",
    "    \n",
    "とかきます。新しいセルを追加したい場合は、上側の「+」を選択するか、キーボードの「B」を押します。"
   ]
  },
  {
   "cell_type": "code",
   "execution_count": null,
   "metadata": {
    "tags": []
   },
   "outputs": [],
   "source": [
    "### (1) XX|0> ###\n",
    "\n",
    "# １量子ビット回路を用意 \n",
    "##コードを記入します##\n",
    "\n",
    "# Xゲートを0番目の量子ビットに操作します。\n",
    "##コードを記入します##\n",
    "\n",
    "# もう一度、Xゲートを0番目の量子ビットに操作します。\n",
    "##コードを記入します##\n",
    "\n",
    "# 回路を描画\n",
    "qc.draw(output=\"mpl\")"
   ]
  },
  {
   "cell_type": "code",
   "execution_count": null,
   "metadata": {
    "tags": []
   },
   "outputs": [],
   "source": [
    "# 状態ベクトルシミュレーターの実行\n",
    "backend = StatevectorSimulator()\n",
    "result = backend.run(qc).result().get_statevector(qc, decimals=3)\n",
    "print(result)\n",
    "\n",
    "# ブロッホ球の表示\n",
    "plot_bloch_multivector(result)"
   ]
  },
  {
   "cell_type": "code",
   "execution_count": null,
   "metadata": {
    "tags": []
   },
   "outputs": [],
   "source": [
    "### (2) HH|0> ###\n",
    "##コードを記入します##\n",
    "\n",
    "qc.draw(\"mpl\")"
   ]
  },
  {
   "cell_type": "code",
   "execution_count": null,
   "metadata": {
    "tags": []
   },
   "outputs": [],
   "source": [
    "# 状態ベクトルシミュレーターの実行\n",
    "backend = StatevectorSimulator()\n",
    "result = backend.run(qc).result().get_statevector(qc, decimals=3)\n",
    "print(result)\n",
    "\n",
    "# ブロッホ球の表示\n",
    "plot_bloch_multivector(result)"
   ]
  },
  {
   "cell_type": "code",
   "execution_count": null,
   "metadata": {
    "tags": []
   },
   "outputs": [],
   "source": [
    "### (3) ZH|1> ###\n",
    "##コードを記入します##\n",
    "\n",
    "qc.draw(\"mpl\")"
   ]
  },
  {
   "cell_type": "code",
   "execution_count": null,
   "metadata": {
    "tags": []
   },
   "outputs": [],
   "source": [
    "# 状態ベクトルシミュレーターの実行\n",
    "backend = StatevectorSimulator()\n",
    "result = backend.run(qc).result().get_statevector(qc, decimals=3)\n",
    "print(result)\n",
    "\n",
    "# ブロッホ球の表示\n",
    "plot_bloch_multivector(result)"
   ]
  },
  {
   "cell_type": "markdown",
   "metadata": {},
   "source": [
    "# 2量子ビット回路"
   ]
  },
  {
   "cell_type": "code",
   "execution_count": null,
   "metadata": {
    "scrolled": true,
    "tags": []
   },
   "outputs": [],
   "source": [
    "# ２量子ビット回路を作成します。\n",
    "qc = QuantumCircuit(2)\n",
    "\n",
    "# Hゲートを0番目の量子ビットに操作します。\n",
    "qc.h(0)\n",
    "\n",
    "# Hゲートを1番目の量子ビットに操作します。\n",
    "qc.h(1)\n",
    "\n",
    "# 回路を描画\n",
    "qc.draw(output=\"mpl\")"
   ]
  },
  {
   "cell_type": "code",
   "execution_count": null,
   "metadata": {
    "scrolled": true,
    "tags": []
   },
   "outputs": [],
   "source": [
    "# 状態ベクトルシミュレーターの実行\n",
    "backend = StatevectorSimulator()\n",
    "result = backend.run(qc).result().get_statevector(qc, decimals=3)\n",
    "print(result)"
   ]
  },
  {
   "cell_type": "markdown",
   "metadata": {},
   "source": [
    "２量子ビットの状態は、１量子ビットの積（テンソル積）で表せます。\n",
    "\n",
    "$|q0\\rangle \\otimes|q1\\rangle = (a|0\\rangle+b|1\\rangle) \\otimes (c|0\\rangle+d|1\\rangle) $\n",
    "\n",
    "$= ac|0\\rangle|0\\rangle+ad|0\\rangle|1\\rangle+bc|1\\rangle|0\\rangle+bd|1\\rangle|1\\rangle$\n",
    "\n",
    "$= ac|00\\rangle+ad|01\\rangle+bc|10\\rangle+bd|11\\rangle$\n",
    "\n",
    "(ただし、$|ac|^2+ |ad|^2+ |bc|^2+ |bd|^2=1$ )\n",
    "\n",
    "\n",
    "Qiskitの初期値は、$|0\\rangle|0\\rangle=|00\\rangle$なので、$H$をそれぞれの量子ビットに操作させることで均等な重ね合わせの状態になります。\n",
    "\n",
    "$H|0\\rangle \\otimes H|0\\rangle=\\frac{1}{\\sqrt{2}}(|0\\rangle+|1\\rangle) \\otimes \\frac{1}{\\sqrt{2}}(|0\\rangle+|1\\rangle) = \\frac{1}{2}(|00\\rangle+|01\\rangle+|10\\rangle+|11\\rangle)$\n",
    "\n",
    "$$ \n",
    "=\\frac{1}{2}\\left( \\begin{bmatrix} 1 \\\\ 1 \\end{bmatrix} \\otimes \\begin{bmatrix} 1 \\\\ 1 \\end{bmatrix}\\right) = \\frac{1}{2}\\begin{bmatrix} 1 \\\\ 1 \\\\ 1 \\\\ 1 \\end{bmatrix}=\\frac{1}{2}\\left(\\begin{bmatrix} 1 \\\\ 0 \\\\ 0 \\\\ 0 \\end{bmatrix}+\\begin{bmatrix} 0 \\\\ 1 \\\\ 0 \\\\ 0 \\end{bmatrix}+\\begin{bmatrix} 0 \\\\ 0 \\\\ 1 \\\\ 0 \\end{bmatrix}+\\begin{bmatrix} 0 \\\\ 0 \\\\ 0 \\\\ 1 \\end{bmatrix}\\right)\n",
    "$$\n"
   ]
  },
  {
   "cell_type": "markdown",
   "metadata": {},
   "source": [
    "$|00\\rangle$ に$CX$ゲートを操作しても$|00\\rangle$ のままです。\n",
    "\n",
    "#### (複数量子ビットの表記の補足)\n",
    "\n",
    "<img src=\"attachment:1a3e10c3-bde2-4289-8734-88e2aff7e533.png\" width='600px'>\n"
   ]
  },
  {
   "cell_type": "code",
   "execution_count": null,
   "metadata": {
    "scrolled": true,
    "tags": []
   },
   "outputs": [],
   "source": [
    "# ブロッホ球の表示\n",
    "plot_bloch_multivector(result)"
   ]
  },
  {
   "cell_type": "markdown",
   "metadata": {},
   "source": [
    "次に、この状態を測定してみましょう。\n",
    "\n",
    "まず、測定回路を追加します。"
   ]
  },
  {
   "cell_type": "code",
   "execution_count": null,
   "metadata": {
    "scrolled": true,
    "tags": []
   },
   "outputs": [],
   "source": [
    "# ２量子ビットと2古典ビットの回路を作成します。\n",
    "qc = QuantumCircuit(2,2)\n",
    "\n",
    "# ゲートを適用します。\n",
    "qc.h(0)\n",
    "qc.h(1)\n",
    "\n",
    "# 測定ゲートを追加\n",
    "qc.measure(0, 0)\n",
    "qc.measure(1, 1)\n",
    "\n",
    "# 回路を描画\n",
    "qc.draw(output=\"mpl\")"
   ]
  },
  {
   "cell_type": "markdown",
   "metadata": {},
   "source": [
    "次にAerシミュレーター（量子計算シミュレーター）で計算させ、測定します。1024回実行した結果、それぞれの状態が測定された回数を表示し、その測定確率をヒストグラムで表示します。"
   ]
  },
  {
   "cell_type": "code",
   "execution_count": null,
   "metadata": {
    "scrolled": true,
    "tags": []
   },
   "outputs": [],
   "source": [
    "from qiskit.transpiler.preset_passmanagers import generate_preset_pass_manager\n",
    "from qiskit_ibm_runtime import SamplerV2 as Sampler\n",
    "\n",
    "# シミュレーターで実験\n",
    "backend = AerSimulator()\n",
    "# 回路を最適化\n",
    "pm = generate_preset_pass_manager(backend=backend, optimization_level=1)\n",
    "isa_qc = pm.run(qc)\n",
    "# Samplerで実行\n",
    "sampler = Sampler(backend)\n",
    "job = sampler.run([isa_qc])\n",
    "result = job.result()\n",
    "\n",
    "#  測定された回数を表示\n",
    "counts = result[0].data.c.get_counts()\n",
    "print(f\" > Counts: {counts}\")\n",
    "\n",
    "## ヒストグラムで測定された確率をプロット\n",
    "from qiskit.visualization import plot_histogram\n",
    "plot_histogram( counts )"
   ]
  },
  {
   "cell_type": "markdown",
   "metadata": {},
   "source": [
    "$|00\\rangle$、$|01\\rangle$、$|10\\rangle$、$|11\\rangle$の状態がほぼ25%ずつ均等に測定されました。"
   ]
  },
  {
   "attachments": {
    "image.png": {
     "image/png": "[encoded data removed]"
    }
   },
   "cell_type": "markdown",
   "metadata": {},
   "source": [
    "次は、$CNOT$ゲート（$CX$ゲート）の実験を行います。\n",
    "\n",
    "$CNOT$ゲートは、２量子ビットにかかる量子ゲートで、制御ビットが1のときのみ、目標ビットの値を反転します。\n",
    "![image.png](attachment:image.png)\n",
    "\n",
    "まず、q0とq1が両方とも0の場合を計算してみましょう。"
   ]
  },
  {
   "cell_type": "code",
   "execution_count": null,
   "metadata": {
    "tags": []
   },
   "outputs": [],
   "source": [
    "# ２量子ビット回路を作成します。 \n",
    "qc = QuantumCircuit(2,2)\n",
    "\n",
    "# q0, q1が0の場合\n",
    "qc.cx(0,1)   # CNOTゲートの制御ビットをq0、目標ビットをq1にセットします。\n",
    "\n",
    "# 回路を描画\n",
    "qc.draw(output=\"mpl\")"
   ]
  },
  {
   "cell_type": "code",
   "execution_count": null,
   "metadata": {
    "tags": []
   },
   "outputs": [],
   "source": [
    "## 状態ベクトルシミュレーターの実行\n",
    "backend = StatevectorSimulator()\n",
    "result = backend.run(qc).result().get_statevector(qc, decimals=3)\n",
    "print(result)"
   ]
  },
  {
   "cell_type": "markdown",
   "metadata": {},
   "source": [
    "\n",
    "次に、$|01\\rangle$ に$CX$ゲートを操作します。\n",
    "\n",
    "ここで、Qiskitでは、最下位ビット(LSB)が右端で、多くの量子情報の教科書とは逆であることに注意してください。つまり、1量子ビット目が一番右のビットで、2量子ビット目が右から２番目のビットです。$|01\\rangle$ とは、q0が1で、q1が0を表しています。\n"
   ]
  },
  {
   "cell_type": "code",
   "execution_count": null,
   "metadata": {
    "tags": []
   },
   "outputs": [],
   "source": [
    "qc = QuantumCircuit(2,2)\n",
    "\n",
    "# q0=1, q1=0の場合\n",
    "qc.x(0)    # q0を1にします。\n",
    "qc.cx(0,1)   # CNOTゲートの制御ゲートをq0、目標ゲートをq1にセットします。\n",
    "\n",
    "# 回路を描画\n",
    "qc.draw(output=\"mpl\")"
   ]
  },
  {
   "cell_type": "code",
   "execution_count": null,
   "metadata": {
    "tags": []
   },
   "outputs": [],
   "source": [
    "# 状態ベクトルシミュレーターの実行\n",
    "backend = StatevectorSimulator()\n",
    "result = backend.run(qc).result().get_statevector(qc, decimals=3)\n",
    "print(result)"
   ]
  },
  {
   "cell_type": "markdown",
   "metadata": {},
   "source": [
    "$|01\\rangle$ に$CX$ゲートを操作すると$|11\\rangle$ になりました。\n",
    "\n",
    "シミュレーターで計算してみましょう。"
   ]
  },
  {
   "cell_type": "code",
   "execution_count": null,
   "metadata": {
    "tags": []
   },
   "outputs": [],
   "source": [
    "# 回路を測定\n",
    "qc.measure(0, 0)\n",
    "qc.measure(1, 1)\n",
    "\n",
    "# 回路を描画\n",
    "qc.draw(output=\"mpl\")"
   ]
  },
  {
   "cell_type": "code",
   "execution_count": null,
   "metadata": {
    "tags": []
   },
   "outputs": [],
   "source": [
    "# シミュレーターで実験\n",
    "backend = AerSimulator()\n",
    "# 回路を最適化\n",
    "pm = generate_preset_pass_manager(backend=backend, optimization_level=1)\n",
    "isa_qc = pm.run(qc)\n",
    "# Samplerで実行\n",
    "sampler = Sampler(backend)\n",
    "job = sampler.run([isa_qc])\n",
    "result = job.result()\n",
    "\n",
    "#  測定された回数を表示\n",
    "counts = result[0].data.c.get_counts()\n",
    "print(f\" > Counts: {counts}\")\n",
    "\n",
    "## ヒストグラムで測定された確率をプロット\n",
    "from qiskit.visualization import plot_histogram\n",
    "plot_histogram( counts )"
   ]
  },
  {
   "cell_type": "markdown",
   "metadata": {},
   "source": [
    "$|11\\rangle$の状態が100%測定されます。\n"
   ]
  },
  {
   "cell_type": "markdown",
   "metadata": {},
   "source": [
    "\n",
    "\n",
    "# 量子もつれと実デバイスでの測定\n",
    "エンタングルメント状態を作り実デバイスで測定してみます。\n",
    "\n",
    "量子計算上でも重要な状態となる、量子もつれ状態（エンタングルメント状態）を生成してみましょう。\n",
    "量子もつれ状態とは2つの量子ビットが、強い関連性で結ばれた状態を指します。\n",
    "量子テレポーテーションなどで利用されます。\n",
    "\n",
    "2量子ビットの量子もつれ状態の1つの例が次のような形になります。\n",
    "$$\\frac{1}{\\sqrt{2}}|00\\rangle + \\frac{1}{\\sqrt{2}}|11\\rangle$$\n",
    "\n",
    "これは、「片方の量子ビットが$|0\\rangle$の場合に、もう片方の量子ビットも$|0\\rangle$になっている」状態と、「片方の量子ビットが$|1\\rangle$の場合に、もう片方の量子ビットも$|1\\rangle$になっている」状態の重ね合わせ状態になっています。つまり、片方の量子ビットの状態が決まると、残りの量子ビットが確定するような状態となっています。別の言い方をすると、$|00\\rangle$と$|11\\rangle$という2つのデータが半々の確率で観測されることを示しています。<br>\n",
    "\n",
    "上記の状態をつくるには、まず片方の量子ビットを重ね合わせの状態にします。つまり、\n",
    "$$ |00\\rangle \\rightarrow  \\frac{1}{\\sqrt{2}}|00\\rangle  + \\frac{1}{\\sqrt{2}}|01\\rangle  $$\n",
    "\n",
    "その後、CXゲートを作用させます。量子ビット0をコントロールビット、量子ビット1をターゲットビットとします。すると、右側が1の量子ビットに対して、残った方の量子ビットを反転させます。\n",
    "$$ CX(\\frac{1}{\\sqrt{2}}|00\\rangle  + \\frac{1}{\\sqrt{2}}|01\\rangle) \\rightarrow \\frac{1}{\\sqrt{2}}|00\\rangle  + \\frac{1}{\\sqrt{2}}|11\\rangle $$\n",
    "\n",
    "では、演習1-2で実際にこの量子状態を作ってみましょう。<br>\n"
   ]
  },
  {
   "cell_type": "markdown",
   "metadata": {},
   "source": [
    "#### (エンタングルメントの特性についてざっくり理解するための補足情報)\n",
    "\n",
    "<img src=\"attachment:13a9c48e-caa1-4f43-8a33-053efaf3c63e.png\" width=\"400px\"><img src=\"attachment:19094af2-2f7d-49fc-8ccf-8786185d468e.png\" width=\"400px\">"
   ]
  },
  {
   "cell_type": "markdown",
   "metadata": {},
   "source": [
    "## 演習2"
   ]
  },
  {
   "attachments": {
    "image-4.png": {
     "image/png": "[encoded data removed]"
    }
   },
   "cell_type": "markdown",
   "metadata": {},
   "source": [
    "(1) 次の回路をプログラミングし、Aerシミュレーターを実行して、結果をヒストグラムで表示してください。$|00\\rangle$と$|11\\rangle$がほぼ半分ずつになることを確認します。\n",
    "![image-4.png](attachment:image-4.png)"
   ]
  },
  {
   "cell_type": "code",
   "execution_count": null,
   "metadata": {
    "tags": []
   },
   "outputs": [],
   "source": [
    "# 2量子ビット回路の用意\n",
    "qc = QuantumCircuit(2,2) ##コードを記入します##\n",
    "\n",
    "# 2量子ビットのエンタングルメント回路の作成\n",
    "##コードを記入します##\n",
    "\n",
    "\n",
    "# 回路を測定\n",
    "##コードを記入します##\n",
    "\n",
    "\n",
    "# 回路を描画\n",
    "qc.draw(output=\"mpl\")"
   ]
  },
  {
   "cell_type": "code",
   "execution_count": null,
   "metadata": {
    "tags": []
   },
   "outputs": [],
   "source": [
    "# シミュレーターで実験\n",
    "backend = AerSimulator()\n",
    "# 回路を最適化\n",
    "pm = generate_preset_pass_manager(backend=backend, optimization_level=1)\n",
    "isa_qc = pm.run(qc)\n",
    "# Samplerで実行\n",
    "sampler = Sampler(backend)\n",
    "job = sampler.run([isa_qc])\n",
    "result = job.result()\n",
    "\n",
    "#  測定された回数を表示\n",
    "counts = result[0].data.c.get_counts()\n",
    "print(f\" > Counts: {counts}\")\n",
    "\n",
    "## ヒストグラムで測定された確率をプロット\n",
    "from qiskit.visualization import plot_histogram\n",
    "plot_histogram( counts )"
   ]
  },
  {
   "cell_type": "markdown",
   "metadata": {},
   "source": [
    "(2) 以下のコードを実行して実デバイスで計算してみましょう。"
   ]
  },
  {
   "cell_type": "code",
   "execution_count": null,
   "metadata": {},
   "outputs": [],
   "source": [
    "from qiskit_ibm_runtime import QiskitRuntimeService\n",
    "\n",
    "# local環境で初めて実行する場合は、認証情報をディスクに保存します：\n",
    "# QiskitRuntimeService.save_account(channel='ibm_quantum', instance='ibm-q/open/main', token='<IBM Quantum API key>')\n",
    "\n",
    "service = QiskitRuntimeService()"
   ]
  },
  {
   "cell_type": "code",
   "execution_count": null,
   "metadata": {},
   "outputs": [],
   "source": [
    "service.backends()"
   ]
  },
  {
   "cell_type": "code",
   "execution_count": null,
   "metadata": {},
   "outputs": [],
   "source": [
    "# 以下でデバイスを指定できます。\n",
    "backend = service.get_backend('ibm_kyoto')"
   ]
  },
  {
   "cell_type": "code",
   "execution_count": null,
   "metadata": {},
   "outputs": [],
   "source": [
    "#一番空いているバックエンドを自動的に選択することもできます\n",
    "backend = service.least_busy(operational=True, simulator=False, min_num_qubits=127)\n",
    "print(\"最も空いているバックエンドは: \", backend)"
   ]
  },
  {
   "cell_type": "code",
   "execution_count": null,
   "metadata": {},
   "outputs": [],
   "source": [
    "# 回路を実機で実行可能なbasisゲートにトランスパイルします\n",
    "pm = generate_preset_pass_manager(backend=backend, optimization_level=1)\n",
    "isa_circuit = pm.run(qc)\n",
    "isa_circuit.draw(\"mpl\", idle_wires=False)"
   ]
  },
  {
   "cell_type": "code",
   "execution_count": null,
   "metadata": {},
   "outputs": [],
   "source": [
    "# Samplerで実行します\n",
    "sampler = Sampler(backend)\n",
    "job = sampler.run([isa_circuit])\n",
    "\n",
    "print(\"job id:\", job.job_id()) # job idの確認"
   ]
  },
  {
   "cell_type": "code",
   "execution_count": null,
   "metadata": {},
   "outputs": [],
   "source": [
    "# ジョブの実行状態を確認します\n",
    "job.status()"
   ]
  },
  {
   "cell_type": "code",
   "execution_count": null,
   "metadata": {},
   "outputs": [],
   "source": [
    "# 待ち時間が長い時に後から結果を確認する場合\n",
    "from qiskit_ibm_runtime import QiskitRuntimeService\n",
    "service = QiskitRuntimeService()\n",
    "job = service.job('crwagasx484g008fca5g') # 例です。上に出力された自分のjob_idを入れて実行してください。\n",
    "job.status()"
   ]
  },
  {
   "cell_type": "code",
   "execution_count": null,
   "metadata": {},
   "outputs": [],
   "source": [
    "# ジョブの実行状態を確認します\n",
    "job.status()"
   ]
  },
  {
   "cell_type": "code",
   "execution_count": null,
   "metadata": {},
   "outputs": [],
   "source": [
    "### job has successfully runになってから実行します ###\n",
    "result = job.result()\n",
    "print(f\" > Counts: {result[0].data.c.get_counts()}\")"
   ]
  },
  {
   "cell_type": "code",
   "execution_count": null,
   "metadata": {
    "scrolled": true,
    "tags": []
   },
   "outputs": [],
   "source": [
    "from qiskit.visualization import plot_histogram\n",
    "plot_histogram(result[0].data.c.get_counts())"
   ]
  },
  {
   "cell_type": "markdown",
   "metadata": {},
   "source": [
    "# GHZ状態\n",
    "\n",
    "3量子ビット以上が完全にエンタングルした状態をGHZ状態 (Greenberger–Horne–Zeilinger state) と呼びます。\n",
    "\n",
    "$$\\frac{1}{\\sqrt 2}(|000\\rangle + |111\\rangle)$$\n",
    "\n",
    "３量子ビットのGHZ状態は、次のような量子回路で作成することができます。"
   ]
  },
  {
   "cell_type": "code",
   "execution_count": null,
   "metadata": {},
   "outputs": [],
   "source": [
    "qc = QuantumCircuit(3)\n",
    "\n",
    "qc.h(0)\n",
    "qc.cx(0,1)\n",
    "qc.cx(1,2)\n",
    "\n",
    "qc.measure_all()\n",
    "\n",
    "qc.draw(\"mpl\")"
   ]
  },
  {
   "cell_type": "markdown",
   "metadata": {},
   "source": [
    "量子回路の「深さ」は、量子回路を評価する指標としてよく使われます。こちらのリンク先が、量子回路の「深さ」を理解するのに役立ちます：\n",
    "https://docs.quantum.ibm.com/_next/image?url=%2Fimages%2Fapi%2Fqiskit%2Fdepth.gif&w=1920&q=75\n",
    "\n",
    "QuantumCircuit.depth()で、量子回路の深さを調べることができ、上の回路の深さは4です。\n"
   ]
  },
  {
   "cell_type": "markdown",
   "metadata": {},
   "source": [
    "#### （リンク先のgifが速いので、静止画による説明）\n",
    "\n",
    "下図のような量子回路を元に説明します。\n",
    "\n",
    "下図では、14回の操作があるように見えますが、量子回路では、**複数量子ビット** に対して **同時に** ゲート操作をすることは可能です。この時実行する単位を **layer** と呼びます。\n",
    "\n",
    "<img src=\"attachment:1fa8ae72-093e-43dc-8ed4-7206b493c822.png\" width=\"400px\">\n",
    "\n",
    "具体的な例として、複数の操作が1つのlayerにまとまる、layer #2を見てみます。\n",
    "\n",
    "cxゲートが量子ビット(0,5), (1,6), (2,7), (3,8), (4,9)間に適用されていますが、対象の量子ビットは重複していないため同時に実行でき、layerは1つだけになります。\n",
    "\n",
    "<img src=\"attachment:9f15b791-6888-4b1b-954d-7bd9fc0fb9ca.png\" width=\"400px\">\n",
    "\n",
    "次にlayer #3を見てみます。\n",
    "\n",
    "cxゲートが量子ビット(1,7)間に適用、xゲートが量子ビット(8)に適応されています。量子ビット(1,7,8)はlayer #2で量子ゲートの操作を行っている量子ビットなので、ここはlayerが分離します。\n",
    "\n",
    "<img src=\"attachment:460c8cb4-41b2-411a-b03f-05927c9ff6e2.png\" width=\"400px\">\n",
    "\n",
    "同様にして最後まで見ていくと、赤で囲んだ部分が原因で下図のようにlayerが分かれます。このlayerの個数が、 **深さ(depth)** と定義されているものです。\n",
    "\n",
    "<img src=\"attachment:4eedfc1a-3250-419c-98e6-795df94eb10e.png\" width=\"400px\">"
   ]
  },
  {
   "cell_type": "code",
   "execution_count": null,
   "metadata": {},
   "outputs": [],
   "source": [
    "qc.depth()"
   ]
  },
  {
   "cell_type": "markdown",
   "metadata": {},
   "source": [
    "## 演習 3\n",
    "\n",
    "$8$ 量子ビットのGHZ状態は、以下のようになります。\n",
    "\n",
    "$$\\frac{1}{\\sqrt 2}(|00000000\\rangle + |11111111\\rangle)$$\n",
    "\n",
    "この状態を最も浅い回路で作ってみましょう。最も浅い量子回路の depth は、測定ゲートを合わせて 5 です！"
   ]
  },
  {
   "cell_type": "code",
   "execution_count": null,
   "metadata": {},
   "outputs": [],
   "source": [
    "qc = QuantumCircuit(8,8)\n",
    "\n",
    "# ここから下にコードを書きます\n",
    "\n",
    "\n",
    "\n",
    "# ここから上にコードを書きます\n",
    "\n",
    "# 測定\n",
    "qc.measure_all()\n",
    "\n",
    "qc.draw(\"mpl\")\n",
    "#print(qc.depth())"
   ]
  },
  {
   "cell_type": "code",
   "execution_count": null,
   "metadata": {},
   "outputs": [],
   "source": [
    "print(qc.depth())"
   ]
  },
  {
   "cell_type": "code",
   "execution_count": null,
   "metadata": {},
   "outputs": [],
   "source": [
    "# シミュレーターで実験\n",
    "backend = AerSimulator()\n",
    "# 回路を最適化\n",
    "pm = generate_preset_pass_manager(backend=backend, optimization_level=1)\n",
    "isa_qc = pm.run(qc)\n",
    "# Samplerで実行\n",
    "sampler = Sampler(backend)\n",
    "job = sampler.run([isa_qc])\n",
    "result = job.result()\n",
    "\n",
    "#  測定された回数を表示\n",
    "counts = result[0].data.meas.get_counts()\n",
    "print(f\" > Counts: {counts}\")\n",
    "\n",
    "## ヒストグラムで測定された確率をプロット\n",
    "from qiskit.visualization import plot_histogram\n",
    "plot_histogram( counts )"
   ]
  },
  {
   "cell_type": "code",
   "execution_count": null,
   "metadata": {
    "scrolled": true,
    "tags": []
   },
   "outputs": [],
   "source": [
    "# Qiskitバージョンの確認\n",
    "import qiskit\n",
    "qiskit.__version__"
   ]
  },
  {
   "cell_type": "code",
   "execution_count": null,
   "metadata": {},
   "outputs": [],
   "source": []
  }
 ],
 "metadata": {
  "kernelspec": {
   "display_name": "Python 3",
   "language": "python",
   "name": "python3"
  },
  "language_info": {
   "codemirror_mode": {
    "name": "ipython",
    "version": 3
   },
   "file_extension": ".py",
   "mimetype": "text/x-python",
   "name": "python",
   "nbconvert_exporter": "python",
   "pygments_lexer": "ipython3",
   "version": "3.12.3"
  },
  "widgets": {
   "application/vnd.jupyter.widget-state+json": {
    "state": {},
    "version_major": 2,
    "version_minor": 0
   }
  }
 },
 "nbformat": 4,
 "nbformat_minor": 4
}
