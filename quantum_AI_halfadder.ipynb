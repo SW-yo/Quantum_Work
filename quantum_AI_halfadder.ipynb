{
 "cells": [
  {
   "cell_type": "markdown",
   "metadata": {},
   "source": [
    "**量子版半加算器**\n",
    "\n",
    "- Ancilla Bit(アンシラビット、補助ビット) = |0〉を使う。  \n",
    "- |A〉と|B〉のAND…桁上り  \n",
    "  - |A〉● |B〉⊕ |0〉= |A〉|B〉⊕ |0〉= |A〉|B〉= |C〉  \n",
    "- |A〉と|B〉とのXOR…総和  \n",
    "  - (|A〉⊕|0〉) ⊕ |B〉= |A〉⊕ |B〉=|S〉"
   ]
  },
  {
   "cell_type": "markdown",
   "metadata": {},
   "source": [
    "**Qiskit関連import**"
   ]
  },
  {
   "cell_type": "code",
   "execution_count": 1,
   "metadata": {},
   "outputs": [],
   "source": [
    "# Import the qiskit library\n",
    "#量子ビット\n",
    "from qiskit import QuantumCircuit\n",
    "\n",
    "#シミュレータ\n",
    "from qiskit_aer import StatevectorSimulator\n",
    "\n",
    "#ブロッホ球表示\n",
    "from qiskit.visualization import plot_bloch_multivector\n",
    "\n",
    "#シミュレータとパスマネージャとサンプラとグラフ化\n",
    "from qiskit_aer import AerSimulator\n",
    "from qiskit.transpiler.preset_passmanagers import generate_preset_pass_manager\n",
    "from qiskit_ibm_runtime import SamplerV2 as Sampler\n",
    "from qiskit.visualization import plot_histogram\n",
    "\n",
    "#表示をクリア\n",
    "from IPython.display import clear_output"
   ]
  },
  {
   "cell_type": "markdown",
   "metadata": {},
   "source": [
    "**量子ビット、古典ビットの用意**  \n",
    "※QuntaumCircuitのインスタンス名称をcircuit→qcとする  \n",
    "- q₀ : |A〉  \n",
    "- q₁ : |B〉  \n",
    "- q₂,q₄ : Work Bit\n",
    "- q₃ : Ancilla Bit  \n",
    "    *Qiskitでシミュレートする場合はAND(CCNOT)をq₃で作ってq₄で測定する。q₃は再び|0〉に戻す。\n",
    "- c₀,c₁ : 古典ビット  \n",
    "\n",
    "\n",
    "\\\n",
    "**【ワークビット（計算ビット）とアンシラビット（補助ビット）】**  \n",
    "**1. 量子ビットの生成コスト**\n",
    "- **物理的な実装コスト**  \n",
    "  量子ビットは超伝導回路、イオントラップ、光子などの物理システムを使って実現されます。これらのシステムは高度に精密で、設置や維持に多大なリソースが必要です。  \n",
    "  例えば：\n",
    "  - 超伝導量子ビットの場合、極低温環境（ミリケルビン温度）が必要。\n",
    "  - イオントラップでは、レーザーや真空システムの精密な制御が必要。\n",
    "\n",
    "- **量子ビット数が増えると制御が難しくなる**  \n",
    "  各量子ビットを正確に操作・制御するには、多数の配線や高精度な制御回路が必要になります。量子ビットが増えるほど、これらの要求が指数関数的に複雑化します。\n",
    "\n",
    "---\n",
    "\n",
    "**2. エラー率の管理**\n",
    "- **デコヒーレンスとエラー**  \n",
    "  量子ビットは外部環境との相互作用により、容易にデコヒーレンスを引き起こし、エラーが発生します。追加の量子ビットを導入することは、エラーのリスクを高めるため、必要最小限に抑えることが望ましいです。\n",
    "\n",
    "- **エラー訂正に必要なビット数**  \n",
    "  実用的な量子コンピューティングには、エラー訂正が必要です。これには1つの論理量子ビットを作るために多数（数十～数千）の物理量子ビットが必要となるため、量子ビットを無駄にできません。\n",
    "\n",
    "---\n",
    "\n",
    "**3. 計算資源の最適化**\n",
    "- **計算ビット vs 補助ビット**  \n",
    "  計算ビットは直接的に結果を生み出すためのビットで、量子コンピュータの主な目的である「計算」を担います。一方、補助ビットは計算を効率的に行うための補助的な役割に過ぎません。  \n",
    "  限られたリソースの中で、できるだけ計算ビットを有効活用し、補助ビットの数を最小化することが設計上の重要な課題です。\n",
    "\n",
    "- **量子回路の簡略化**  \n",
    "  補助ビットの数を減らすことで、回路全体の複雑さを軽減し、計算時間を短縮できます。これにより、物理的なコストだけでなく、計算時間やエネルギーのコストも削減されます。\n",
    "\n",
    "---\n",
    "\n",
    "**4. 実用的な制限**\n",
    "現在の量子コンピュータでは、使用可能な量子ビット数が非常に限られています（2024年時点では数百程度）。そのため、計算ビットと補助ビットを効率的に区別し、必要最小限の量子ビットで計算を行う設計が求められます。\n",
    "\n",
    "---\n",
    "\n",
    "**結論**\n",
    "量子ビットの生成・制御コストが非常に高いため、計算ビット（ワークビット）と補助ビット（アンシラビット）の役割を明確に分け、計算資源を効率よく活用することが重要です。この区別により、量子コンピュータのハードウェアやアルゴリズムの設計を最適化できます。"
   ]
  },
  {
   "cell_type": "code",
   "execution_count": 2,
   "metadata": {},
   "outputs": [
    {
     "data": {
      "image/png": "[encoded data removed]",
      "text/plain": [
       "<Figure size 162.08x535.111 with 1 Axes>"
      ]
     },
     "execution_count": 2,
     "metadata": {},
     "output_type": "execute_result"
    }
   ],
   "source": [
    "#量子ビット4つ（|A〉|B〉各1、Anciila Bit|0〉3つ）と古典ビット2つ用意\n",
    "qc = QuantumCircuit(5,2) #5量子ビット、２古典ビットを準備\n",
    "\n",
    "#量子回路を表示\n",
    "qc.draw(output=\"mpl\")"
   ]
  },
  {
   "cell_type": "markdown",
   "metadata": {},
   "source": [
    "**入力ビットを準備**  \n",
    "1. q₀とq₁をそれぞれ反転して|１〉に設定 : |1⟩|1⟩ → |10⟩\n",
    "2. q₀だけ反転 : |0⟩|1⟩ → |01⟩\n",
    "3. q₁だけ反転 : |0⟩|1⟩ → |01⟩ \n",
    "4. どちらも基底状態のまま : |0⟩|0⟩ → |00⟩\n"
   ]
  },
  {
   "cell_type": "code",
   "execution_count": 3,
   "metadata": {},
   "outputs": [
    {
     "data": {
      "text/plain": [
       "'\\n操作をしない\\n'"
      ]
     },
     "execution_count": 3,
     "metadata": {},
     "output_type": "execute_result"
    }
   ],
   "source": [
    "#1. q₀とq₁をXゲートで反転\n",
    "\n",
    "qc.x(0)\n",
    "qc.x(1)\n",
    "\n",
    "\n",
    "#2. q₀だけXゲートで反転\n",
    "\"\"\"\n",
    "qc.x(0)\n",
    "\"\"\"\n",
    "\n",
    "#3. q₁だけXゲートで反転\n",
    "\"\"\"\n",
    "qc.x(1)\n",
    "\"\"\"\n",
    "\n",
    "#4. どちらも基底状態のまま\n",
    "\"\"\"\n",
    "操作をしない\n",
    "\"\"\""
   ]
  },
  {
   "cell_type": "markdown",
   "metadata": {},
   "source": [
    "**XORゲート**  \n",
    "q₀とq₂、q₁とq₂の順番でそれぞれCNOTゲートを構成"
   ]
  },
  {
   "cell_type": "code",
   "execution_count": 4,
   "metadata": {},
   "outputs": [
    {
     "data": {
      "text/plain": [
       "<qiskit.circuit.instructionset.InstructionSet at 0x23523d347c0>"
      ]
     },
     "execution_count": 4,
     "metadata": {},
     "output_type": "execute_result"
    }
   ],
   "source": [
    "#q₀でq₂、q₁でq₂の順番を制御\n",
    "qc.cx(0,2)\n",
    "qc.cx(1,2)"
   ]
  },
  {
   "cell_type": "markdown",
   "metadata": {},
   "source": [
    "**ANDゲート**  \n",
    "q₀とq₁のANDの結果とq₃でCONTゲートを構築"
   ]
  },
  {
   "cell_type": "code",
   "execution_count": 5,
   "metadata": {},
   "outputs": [
    {
     "data": {
      "text/plain": [
       "<qiskit.circuit.instructionset.InstructionSet at 0x23523d35450>"
      ]
     },
     "execution_count": 5,
     "metadata": {},
     "output_type": "execute_result"
    }
   ],
   "source": [
    "#q₀とq₁のANDの結果をq₃に格納\n",
    "qc.ccx(0,1,3)\n",
    "\n",
    "#q₃でq₄を制御\n",
    "qc.cx(3,4)\n",
    "\n",
    "#q₃をアンコンピュート\n",
    "qc.ccx(0,1,3)"
   ]
  },
  {
   "cell_type": "markdown",
   "metadata": {},
   "source": [
    "**観測**  \n",
    "XORの結果q₂とANDの結果q₄を測定  \n",
    "  \n",
    "※別の書き方  \n",
    "qc.measure([2,4], [0,1])  # q₂→c₀, q₄→c₁の測定と記録"
   ]
  },
  {
   "cell_type": "code",
   "execution_count": 6,
   "metadata": {},
   "outputs": [
    {
     "data": {
      "text/plain": [
       "<qiskit.circuit.instructionset.InstructionSet at 0x23523f9a980>"
      ]
     },
     "execution_count": 6,
     "metadata": {},
     "output_type": "execute_result"
    }
   ],
   "source": [
    "#q₂とq₄の測定して各々の観測結果をC₀とC₁に記録\n",
    "qc.measure(2,0)\n",
    "qc.measure(4,1)"
   ]
  },
  {
   "cell_type": "markdown",
   "metadata": {},
   "source": [
    "**半加速器のQIskitでの回路図を表示**"
   ]
  },
  {
   "cell_type": "code",
   "execution_count": 7,
   "metadata": {},
   "outputs": [
    {
     "data": {
      "image/png": "[encoded data removed]",
      "text/plain": [
       "<Figure size 705.552x535.111 with 1 Axes>"
      ]
     },
     "execution_count": 7,
     "metadata": {},
     "output_type": "execute_result"
    }
   ],
   "source": [
    "#表示をクリア\n",
    "clear_output(wait=True)\n",
    "\n",
    "#回路図を表示\n",
    "qc.draw(output=\"mpl\")"
   ]
  },
  {
   "cell_type": "markdown",
   "metadata": {},
   "source": [
    "**測定結果を表示**  \n",
    "- |0⟩|0⟩ → |00⟩ （0 + 0 = 0）\n",
    "- |0⟩|1⟩ → |01⟩ （0 + 1 = 1）\n",
    "- |1⟩|0⟩ → |01⟩ （1 + 0 = 1）\n",
    "- |1⟩|1⟩ → |10⟩ （1 + 1 = 2）"
   ]
  },
  {
   "cell_type": "code",
   "execution_count": 8,
   "metadata": {},
   "outputs": [
    {
     "name": "stdout",
     "output_type": "stream",
     "text": [
      " > Counts: {'10': 1024}\n"
     ]
    },
    {
     "data": {
      "image/png": "[encoded data removed]",
      "text/plain": [
       "<Figure size 640x480 with 1 Axes>"
      ]
     },
     "execution_count": 8,
     "metadata": {},
     "output_type": "execute_result"
    }
   ],
   "source": [
    "#シミュレータを準備\n",
    "backend = AerSimulator()\n",
    "\n",
    "#パスマネージャを準備\n",
    "passmanager = generate_preset_pass_manager(backend=backend, optimization_level=1)\n",
    "\n",
    "#回路を最適化\n",
    "isa_circuit = passmanager.run(qc)\n",
    "\n",
    "#シミュレータからサンプラを作って実行\n",
    "sampler = Sampler(backend)\n",
    "job  = sampler.run([isa_circuit])\n",
    "result = job.result()\n",
    "\n",
    "#測定された回数を表示\n",
    "counts = result[0].data.c.get_counts()\n",
    "print(f\" > Counts: {counts}\")\n",
    "\n",
    "#ヒストグラムで表示\n",
    "plot_histogram( counts )"
   ]
  },
  {
   "cell_type": "markdown",
   "metadata": {},
   "source": [
    "**実機で実行**\n",
    "- 認証情報はディスクに保存済み。\n",
    "- [text](qt_hundson_intro.ipynb)のデッドコピー"
   ]
  },
  {
   "cell_type": "code",
   "execution_count": 9,
   "metadata": {},
   "outputs": [
    {
     "name": "stdout",
     "output_type": "stream",
     "text": [
      "最も空いているバックエンドは:  <IBMBackend('ibm_kyiv')>\n",
      "job id: cxm89y76t010008d5ncg\n",
      " > Counts: {'10': 3742, '00': 267, '01': 29, '11': 58}\n"
     ]
    },
    {
     "data": {
      "image/png": "[encoded data removed]",
      "text/plain": [
       "<Figure size 640x480 with 1 Axes>"
      ]
     },
     "execution_count": 9,
     "metadata": {},
     "output_type": "execute_result"
    }
   ],
   "source": [
    "#実機実行時はserviceインスタンス作成が必要\n",
    "from qiskit_ibm_runtime import QiskitRuntimeService\n",
    "service = QiskitRuntimeService()\n",
    "service.backends()\n",
    "\n",
    "#一番空いているバックエンドを自動的に選択することもできます\n",
    "backend = service.least_busy(operational=True, simulator=False, min_num_qubits=127)\n",
    "print(\"最も空いているバックエンドは: \", backend)\n",
    "\n",
    "# 回路を実機で実行可能なbasisゲートにトランスパイルします\n",
    "pm = generate_preset_pass_manager(backend=backend, optimization_level=1)\n",
    "isa_circuit = pm.run(qc)\n",
    "isa_circuit.draw(\"mpl\", idle_wires=False)\n",
    "\n",
    "# Samplerで実行します\n",
    "sampler = Sampler(backend)\n",
    "job = sampler.run([isa_circuit])\n",
    "\n",
    "print(\"job id:\", job.job_id()) # job idの確認\n",
    "\n",
    "# ジョブの実行状態を確認します\n",
    "job.status()\n",
    "\n",
    "### job has successfully runになってから実行します ###\n",
    "result = job.result()\n",
    "print(f\" > Counts: {result[0].data.c.get_counts()}\")\n",
    "\n",
    "from qiskit.visualization import plot_histogram\n",
    "plot_histogram(result[0].data.c.get_counts())"
   ]
  }
 ],
 "metadata": {
  "kernelspec": {
   "display_name": "Python 3",
   "language": "python",
   "name": "python3"
  },
  "language_info": {
   "codemirror_mode": {
    "name": "ipython",
    "version": 3
   },
   "file_extension": ".py",
   "mimetype": "text/x-python",
   "name": "python",
   "nbconvert_exporter": "python",
   "pygments_lexer": "ipython3",
   "version": "3.12.3"
  }
 },
 "nbformat": 4,
 "nbformat_minor": 2
}
