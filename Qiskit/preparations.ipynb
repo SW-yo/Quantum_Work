{
 "cells": [
  {
   "cell_type": "code",
   "execution_count": null,
   "id": "70757aed-1fb6-48d4-8720-ad3a7bd3fcfa",
   "metadata": {},
   "outputs": [],
   "source": [
    "!python -m pip install --upgrade pip"
   ]
  },
  {
   "cell_type": "code",
   "execution_count": null,
   "id": "e1744669-a81f-442b-a5eb-e703662a2a43",
   "metadata": {},
   "outputs": [],
   "source": [
    "!python -m pip install qiskit\n",
    "!python -m pip install qiskit-ibm-runtime\n",
    "!python -m pip install qiskit_aer\n",
    "!python -m pip install jupyter\n",
    "!python -m pip install jupyter lab\n",
    "!python -m pip install matplotlib\n",
    "!python -m pip install pylatexenc"
   ]
  },
  {
   "cell_type": "code",
   "execution_count": null,
   "id": "4dcc9649-82c5-482a-baf5-e0cd94e8a5b1",
   "metadata": {},
   "outputs": [],
   "source": [
    "# Import the qiskit library\n",
    "\n",
    "from qiskit import QuantumCircuit\n",
    "from qiskit_aer import StatevectorSimulator, AerSimulator\n",
    "\n",
    "\n",
    "# ブロッホ球の表示\n",
    "\n",
    "from qiskit.visualization import plot_bloch_multivector\n",
    "\n",
    "\n",
    "#実機接続\n",
    "\n",
    "from qiskit_ibm_runtime import QiskitRuntimeService"
   ]
  },
  {
   "cell_type": "code",
   "execution_count": null,
   "id": "2924b6ff-790a-46f8-9486-d37e7f1ad396",
   "metadata": {},
   "outputs": [],
   "source": []
  }
 ],
 "metadata": {
  "kernelspec": {
   "display_name": "Python 3 (ipykernel)",
   "language": "python",
   "name": "python3"
  },
  "language_info": {
   "codemirror_mode": {
    "name": "ipython",
    "version": 3
   },
   "file_extension": ".py",
   "mimetype": "text/x-python",
   "name": "python",
   "nbconvert_exporter": "python",
   "pygments_lexer": "ipython3",
   "version": "3.12.3"
  }
 },
 "nbformat": 4,
 "nbformat_minor": 5
}
