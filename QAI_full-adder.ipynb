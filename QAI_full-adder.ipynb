{
 "cells": [
  {
   "cell_type": "markdown",
   "metadata": {},
   "source": [
    "# 量子全加算器（Quantum Full Adder）の解説\n",
    "\n",
    "## 基本計算式\n",
    "|A⟩|B⟩|Cin⟩|0⟩ → |A⟩|B⟩{(|A⟩⊕|B⟩)⊕|Cin⟩}{|A⟩|B⟩+(|A⟩⊕|B⟩)|Cin⟩} = |A⟩|B⟩|S⟩|Cout⟩\n",
    "\n",
    "## 式の解釈\n",
    "量子全加算器は、入力状態（|A⟩|B⟩|Cin⟩|0⟩）から出力状態（|A⟩|B⟩|S⟩|Cout⟩）への変換を表現します。\n",
    "\n",
    "## 計算の分解\n",
    "\n",
    "### 1. Sum（S）の計算部分\n",
    "｛(|A⟩⊕|B⟩)⊕|Cin⟩｝\n",
    "- 古典論理回路でのSumと同等\n",
    "- A⊕B⊕Cin で計算\n",
    "\n",
    "### 2. Carry out（Cout）の計算部分\n",
    "｛|A⟩|B⟩+(|A⟩⊕|B⟩)|Cin⟩｝\n",
    "- 古典論理回路でのCarry outと同等\n",
    "- AB + (A⊕B)Cin で計算\n",
    "\n",
    "## 内積表現の意味\n",
    "\n",
    "### 1. 量子力学的な解釈\n",
    "- 状態を基底状態での展開として表現\n",
    "- |S⟩と|Cout⟩を出力の基底状態として使用\n",
    "- 入出力状態を重ね合わせで表現\n",
    "\n",
    "### 2. 実用的なメリット\n",
    "\n",
    "#### 入力側の利点\n",
    "- |A⟩、|B⟩、|Cin⟩の重ね合わせによる並列計算\n",
    "- 8通りの入力パターンを同時に処理可能\n",
    "\n",
    "#### 出力側の利点\n",
    "- 入力情報|A⟩|B⟩を保持しながら計算結果|S⟩|Cout⟩を取得\n",
    "- 4量子ビット系全体での重ね合わせ状態を実現\n",
    "- 入出力間の相関関係の解析が可能\n",
    "\n",
    "#### システム全体の利点\n",
    "- 量子状態の測定結果の確率的予測\n",
    "- 量子もつれを利用した発展的な応用\n",
    "- 回路の数学的検証と古典回路との対応\n",
    "\n",
    "この仕組みにより、古典的な全加算器の機能を保ちながら、量子コンピュータの利点である並列性を活用できる回路となっています。"
   ]
  },
  {
   "cell_type": "code",
   "execution_count": 46,
   "metadata": {},
   "outputs": [],
   "source": [
    "# Import the qiskit library\n",
    "#量子ビット\n",
    "from qiskit import QuantumCircuit\n",
    "\n",
    "#シミュレータ\n",
    "from qiskit_aer import StatevectorSimulator\n",
    "\n",
    "#ブロッホ球表示\n",
    "from qiskit.visualization import plot_bloch_multivector\n",
    "\n",
    "#シミュレータとパスマネージャとサンプラとグラフ化\n",
    "from qiskit_aer import AerSimulator\n",
    "from qiskit.transpiler.preset_passmanagers import generate_preset_pass_manager\n",
    "from qiskit_ibm_runtime import SamplerV2 as Sampler\n",
    "from qiskit.visualization import plot_histogram\n",
    "\n",
    "#表示をクリア\n",
    "from IPython.display import clear_output"
   ]
  },
  {
   "cell_type": "markdown",
   "metadata": {},
   "source": [
    "## 量子ビット、古典ビットの用意  \n",
    "- q₀ : |A〉  \n",
    "- q₁ : |B〉  \n",
    "- q₂ : |Cin〉\n",
    "- q₃,q₄,q₅ : Ancilla Bit  \n",
    "- q₆,q₇: Work Bit ⇒ |Cout〉,|S〉\n",
    "- c₀,c₁ : 古典ビット  \n",
    "![quantum-circuit-fulladder](quantum-circuit-fulladder-1.png)  \n",
    "**条件：|Cout〉と|S〉を並べて表示**  \n",
    "『Pythonではじめる量子AI入門 量子機械学習から量子回路自動設計まで (エンジニア入門シリーズ)』1.4.1項問題から  \n",
    "https://amzn.asia/d/aeMSoG8"
   ]
  },
  {
   "cell_type": "code",
   "execution_count": 47,
   "metadata": {},
   "outputs": [],
   "source": [
    "#量子ビット8つ（|A〉|B〉 |Cin〉各1、Anciila Bit|0〉3つ、Work Bit|0〉2つ）と古典ビット2つ用意\n",
    "qc = QuantumCircuit(8,2) #8量子ビット、2古典ビットを準備"
   ]
  },
  {
   "cell_type": "markdown",
   "metadata": {},
   "source": [
    "## 入力ビットを準備\n",
    "- 入力はq₀=A〉,q₁=|B〉,q₂=|Cout〉  \n",
    "- 出力はq₇→c₀（Sum）, q₆→c₁（Cout）として結果の表記：(c₀,c₁)=|Sum,Cout⟩\n",
    "1. q₀,q₁,q₂をすべて反転して|１〉に設定 : |1⟩|1⟩|1⟩ → |11⟩\n",
    "2. q₀,q₁を反転 : |1⟩|1⟩|0⟩ → |10⟩\n",
    "3. q₁,q₂を反転 : |0⟩|1⟩|1⟩ → |10⟩\n",
    "4. q₀,q₂を反転 : |1⟩|0⟩|1⟩ → |10⟩\n",
    "5. q₀のみ反転 : |1⟩|0⟩|0⟩ → |01⟩\n",
    "6. q₁のみ反転 : |0⟩|1⟩|0⟩ → |01⟩\n",
    "7. q₂のみ反転 : |0⟩|0⟩|1⟩ → |01⟩\n",
    "8. どのビットも基底状態のまま : |0⟩|0⟩|0⟩ → |00⟩"
   ]
  },
  {
   "cell_type": "code",
   "execution_count": 48,
   "metadata": {},
   "outputs": [
    {
     "data": {
      "text/plain": [
       "'\\n操作をしない\\n'"
      ]
     },
     "execution_count": 48,
     "metadata": {},
     "output_type": "execute_result"
    }
   ],
   "source": [
    "#1. q₀,q₁,q₂をすべて反転\n",
    "qc.x(0)\n",
    "qc.x(1)\n",
    "qc.x(2)\n",
    "\n",
    "#2. q₀,q₁を反転\n",
    "\"\"\"\n",
    "qc.x(0)\n",
    "qc.x(1)\n",
    "\"\"\"\n",
    "\n",
    "#3. q₁,q₂を反転\n",
    "\"\"\"\n",
    "qc.x(1)\n",
    "qc.x(2)\n",
    "\"\"\"\n",
    "\n",
    "#4. q₀,q₂を反転\n",
    "\"\"\"\n",
    "qc.x(0)\n",
    "qc.x(2)\n",
    "\"\"\"\n",
    "\n",
    "#5. q₀のみ反転\n",
    "\"\"\"\n",
    "qc.x(0)\n",
    "\"\"\"\n",
    "\n",
    "#6. q₁のみ反転\n",
    "\"\"\"\n",
    "qc.x(1)\n",
    "\"\"\"\n",
    "\n",
    "#7. q₂のみ反転\n",
    "\"\"\"\n",
    "qc.x(2)\n",
    "\"\"\"\n",
    "\n",
    "#8. どのビットも基底状態のまま\n",
    "\"\"\"\n",
    "操作をしない\n",
    "\"\"\""
   ]
  },
  {
   "cell_type": "markdown",
   "metadata": {},
   "source": [
    "## 半加算器1を構成\n",
    "q₀とq₃、q₁とq₃のCNOT（ここまででXOR）、q₀とq₁とq₄でCCNOTを作成（これでHA1）"
   ]
  },
  {
   "cell_type": "code",
   "execution_count": 49,
   "metadata": {},
   "outputs": [
    {
     "data": {
      "text/plain": [
       "<qiskit.circuit.instructionset.InstructionSet at 0x1c6274eb8b0>"
      ]
     },
     "execution_count": 49,
     "metadata": {},
     "output_type": "execute_result"
    }
   ],
   "source": [
    "#q₀でq3、q₁でq3、q₀とq₁でq₄の順番で制御\n",
    "qc.cx(0,3)\n",
    "qc.cx(1,3)\n",
    "qc.ccx(0,1,4)"
   ]
  },
  {
   "cell_type": "markdown",
   "metadata": {},
   "source": [
    "## 半加算器2を構成\n",
    "q₂とq₇、q₃とq₇のCNOT（ここまででXOR）、q₂とq₃とq₅でCCNOTを作成（これでHA2）"
   ]
  },
  {
   "cell_type": "code",
   "execution_count": 50,
   "metadata": {},
   "outputs": [
    {
     "data": {
      "text/plain": [
       "<qiskit.circuit.instructionset.InstructionSet at 0x1c629912a10>"
      ]
     },
     "execution_count": 50,
     "metadata": {},
     "output_type": "execute_result"
    }
   ],
   "source": [
    "#q₂でq₇、q₃でq₇、q₂とq₃でq₅の順番で制御\n",
    "qc.cx(2,7)\n",
    "qc.cx(3,7)\n",
    "qc.ccx(2,3,5)"
   ]
  },
  {
   "cell_type": "markdown",
   "metadata": {},
   "source": [
    "## OR回路を構成\n",
    "q₄とq₆、q₅とq₆、q₄とq₅とq₆でORを作成"
   ]
  },
  {
   "cell_type": "code",
   "execution_count": 51,
   "metadata": {},
   "outputs": [
    {
     "data": {
      "text/plain": [
       "<qiskit.circuit.instructionset.InstructionSet at 0x1c626a3e5c0>"
      ]
     },
     "execution_count": 51,
     "metadata": {},
     "output_type": "execute_result"
    }
   ],
   "source": [
    "#q₄とq₆、q₅とq₆、q₄とq₅とq₆の順番で制御\n",
    "qc.cx(4,6)\n",
    "qc.cx(5,6)\n",
    "qc.ccx(4,5,6)"
   ]
  },
  {
   "cell_type": "markdown",
   "metadata": {},
   "source": [
    "## アンシラビットをアンコンピュート\n",
    "q₃、q₄、q₅はアンコンピュート"
   ]
  },
  {
   "cell_type": "code",
   "execution_count": 52,
   "metadata": {},
   "outputs": [
    {
     "data": {
      "text/plain": [
       "<qiskit.circuit.instructionset.InstructionSet at 0x1c627381870>"
      ]
     },
     "execution_count": 52,
     "metadata": {},
     "output_type": "execute_result"
    }
   ],
   "source": [
    "#アンコンピュート\n",
    "qc.ccx(2,3,5)  # C2midのアンコンピュート\n",
    "qc.ccx(0,1,4)  # C1midのアンコンピュート\n",
    "qc.cx(1,3)     # C1midのアンコンピュート（その2）\n",
    "qc.cx(0,3)     # C1midのアンコンピュート（その1）"
   ]
  },
  {
   "cell_type": "markdown",
   "metadata": {},
   "source": [
    "## 結果を測定\n",
    "q₆とq₇を測定してそれぞれc₁とc₀に記録"
   ]
  },
  {
   "cell_type": "code",
   "execution_count": 53,
   "metadata": {},
   "outputs": [
    {
     "data": {
      "text/plain": [
       "<qiskit.circuit.instructionset.InstructionSet at 0x1c62933c3d0>"
      ]
     },
     "execution_count": 53,
     "metadata": {},
     "output_type": "execute_result"
    }
   ],
   "source": [
    "#測定\n",
    "qc.measure(6,1)  # Cout の測定をクラシカルビット1へ\n",
    "qc.measure(7,0)  # Sum の測定をクラシカルビット0へ"
   ]
  },
  {
   "cell_type": "markdown",
   "metadata": {},
   "source": [
    "## 回路図を表示"
   ]
  },
  {
   "cell_type": "code",
   "execution_count": 54,
   "metadata": {},
   "outputs": [
    {
     "data": {
      "image/png": "[encoded data removed]",
      "text/plain": [
       "<Figure size 1290.83x785.944 with 1 Axes>"
      ]
     },
     "execution_count": 54,
     "metadata": {},
     "output_type": "execute_result"
    }
   ],
   "source": [
    "#表示をクリア\n",
    "clear_output(wait=True)\n",
    "\n",
    "#回路図を表示\n",
    "qc.draw(output=\"mpl\")"
   ]
  },
  {
   "cell_type": "markdown",
   "metadata": {},
   "source": [
    "**測定結果を表示**  \n",
    "- |0⟩|0⟩ → |00⟩ （0 + 0 = 0）\n",
    "- |0⟩|1⟩ → |01⟩ （0 + 1 = 1）\n",
    "- |1⟩|0⟩ → |01⟩ （1 + 0 = 1）\n",
    "- |1⟩|1⟩ → |10⟩ （1 + 1 = 2）"
   ]
  },
  {
   "cell_type": "code",
   "execution_count": 55,
   "metadata": {},
   "outputs": [
    {
     "name": "stdout",
     "output_type": "stream",
     "text": [
      " > Counts: {'11': 1024}\n"
     ]
    },
    {
     "data": {
      "image/png": "[encoded data removed]",
      "text/plain": [
       "<Figure size 640x480 with 1 Axes>"
      ]
     },
     "execution_count": 55,
     "metadata": {},
     "output_type": "execute_result"
    }
   ],
   "source": [
    "#シミュレータを準備\n",
    "backend = AerSimulator()\n",
    "\n",
    "#パスマネージャを準備\n",
    "passmanager = generate_preset_pass_manager(backend=backend, optimization_level=1)\n",
    "\n",
    "#回路を最適化\n",
    "isa_circuit = passmanager.run(qc)\n",
    "\n",
    "#シミュレータからサンプラを作って実行\n",
    "sampler = Sampler(backend)\n",
    "job  = sampler.run([isa_circuit])\n",
    "result = job.result()\n",
    "\n",
    "#測定された回数を表示\n",
    "counts = result[0].data.c.get_counts()\n",
    "print(f\" > Counts: {counts}\")\n",
    "\n",
    "#ヒストグラムで表示\n",
    "plot_histogram( counts )"
   ]
  },
  {
   "cell_type": "markdown",
   "metadata": {},
   "source": [
    "**実機で実行**\n",
    "- 認証情報はディスクに保存済み。\n",
    "- [text](qt_hundson_intro.ipynb)のデッドコピー"
   ]
  },
  {
   "cell_type": "code",
   "execution_count": 56,
   "metadata": {},
   "outputs": [
    {
     "name": "stdout",
     "output_type": "stream",
     "text": [
      "最も空いているバックエンドは:  <IBMBackend('ibm_brisbane')>\n",
      "job id: cxn6ach3ej4g008gqjm0\n",
      " > Counts: {'10': 856, '01': 1135, '00': 1306, '11': 799}\n"
     ]
    },
    {
     "data": {
      "image/png": "[encoded data removed]",
      "text/plain": [
       "<Figure size 640x480 with 1 Axes>"
      ]
     },
     "execution_count": 56,
     "metadata": {},
     "output_type": "execute_result"
    }
   ],
   "source": [
    "#実機実行時はserviceインスタンス作成が必要\n",
    "from qiskit_ibm_runtime import QiskitRuntimeService\n",
    "service = QiskitRuntimeService()\n",
    "service.backends()\n",
    "\n",
    "#一番空いているバックエンドを自動的に選択することもできます\n",
    "backend = service.least_busy(operational=True, simulator=False, min_num_qubits=127)\n",
    "print(\"最も空いているバックエンドは: \", backend)\n",
    "\n",
    "# 回路を実機で実行可能なbasisゲートにトランスパイルします\n",
    "pm = generate_preset_pass_manager(backend=backend, optimization_level=1)\n",
    "isa_circuit = pm.run(qc)\n",
    "isa_circuit.draw(\"mpl\", idle_wires=False)\n",
    "\n",
    "# Samplerで実行します\n",
    "sampler = Sampler(backend)\n",
    "job = sampler.run([isa_circuit])\n",
    "\n",
    "print(\"job id:\", job.job_id()) # job idの確認\n",
    "\n",
    "# ジョブの実行状態を確認します\n",
    "job.status()\n",
    "\n",
    "### job has successfully runになってから実行します ###\n",
    "result = job.result()\n",
    "print(f\" > Counts: {result[0].data.c.get_counts()}\")\n",
    "\n",
    "from qiskit.visualization import plot_histogram\n",
    "plot_histogram(result[0].data.c.get_counts())"
   ]
  },
  {
   "cell_type": "markdown",
   "metadata": {},
   "source": [
    "## 考えられる要因\n",
    "\n",
    "1. 量子ゲートの不完全性：\n",
    "実機では完璧な量子操作は難しく、各ゲートには誤差が含まれます  \n",
    "\n",
    "2. デコヒーレンス：\n",
    "量子状態が環境との相互作用で古典的な状態に崩壊する現象  \n",
    "\n",
    "3. 読み出しエラー：\n",
    "量子状態の測定時に発生するエラー  \n",
    "\n",
    "このようなノイズや誤差は現在の量子コンピュータでは避けられない課題で、特に量子ビット数やゲート数が増えると、その影響はより顕著になります。  \n",
    "これが実用的な量子コンピュータの実現における主要な技術的課題の一つとなっています。"
   ]
  }
 ],
 "metadata": {
  "kernelspec": {
   "display_name": "Python 3",
   "language": "python",
   "name": "python3"
  },
  "language_info": {
   "codemirror_mode": {
    "name": "ipython",
    "version": 3
   },
   "file_extension": ".py",
   "mimetype": "text/x-python",
   "name": "python",
   "nbconvert_exporter": "python",
   "pygments_lexer": "ipython3",
   "version": "3.12.3"
  }
 },
 "nbformat": 4,
 "nbformat_minor": 2
}
